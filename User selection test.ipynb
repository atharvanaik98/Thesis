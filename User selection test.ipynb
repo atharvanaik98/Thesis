{
 "cells": [
  {
   "cell_type": "markdown",
   "metadata": {},
   "source": [
    "Import necessary packages"
   ]
  },
  {
   "cell_type": "code",
   "execution_count": 1,
   "metadata": {},
   "outputs": [],
   "source": [
    "from langchain_core.prompts import ChatPromptTemplate, FewShotChatMessagePromptTemplate, MessagesPlaceholder, PromptTemplate\n",
    "from langchain_openai import ChatOpenAI\n",
    "from pathlib import Path\n",
    "from langchain_core.output_parsers import StrOutputParser\n",
    "from langchain.output_parsers import PydanticToolsParser, PydanticOutputParser\n",
    "from langchain_core.pydantic_v1 import BaseModel, Field, validator\n",
    "from langchain_core.messages import AIMessage, BaseMessage, HumanMessage\n",
    "from typing import Sequence, List\n",
    "from langgraph.graph import MessageGraph, END\n",
    "from langchain_community.document_loaders import DirectoryLoader\n",
    "from langchain_community.vectorstores import FAISS\n",
    "from langchain_text_splitters import CharacterTextSplitter\n",
    "from langchain_openai import OpenAIEmbeddings\n",
    "from langchain_core.runnables import RunnablePassthrough\n",
    "import json\n",
    "import nest_asyncio\n",
    "nest_asyncio.apply()\n",
    "\n",
    "\n",
    "#function to call a path to the file and read it. \n",
    "def context_gen(file_name):\n",
    "    Folder = \"Context_files\"\n",
    "    here = Path(locals().get('__file__', Folder)).resolve()\n",
    "    parameter = (here / file_name).read_text()\n",
    "    return parameter\n",
    "\n",
    "#remove code fences from the output\n",
    "def remove_code_fences(text):\n",
    "    lines = text.split(\"\\n\")\n",
    "    lines = [line for line in lines if not line.strip().startswith('```')]\n",
    "    lines[0] = lines[0].replace(' -', '-', 1)\n",
    "    print()\n",
    "    return \"\\n\".join(lines)\n",
    "\n",
    "#create inputs to the model, telling it what needs to be done. \n",
    "#provides system message\n",
    "system1 = context_gen(\"system1.txt\")\n",
    "\n",
    "#provides the few shot examples\n",
    "output_examples = context_gen(\"outputex.txt\")\n",
    "\n",
    "#provides the input examples\n",
    "input_examples = context_gen(\"inputex.txt\")\n",
    "\n",
    "#provides the database schema\n",
    "schema = context_gen(\"dataBaseSchema.txt\")\n",
    "\n",
    "refsystem = context_gen(\"ref_system copy.txt\")\n",
    "\n",
    "system3 = context_gen(\"system3.txt\")\n",
    "\n",
    "system2 = context_gen(\"system2.txt\")\n",
    "\n",
    "rag_prompt = context_gen(\"rag_prompt.txt\")\n",
    "\n",
    "\n",
    "#First input to the model, breaks query down and provides geometry definition\n",
    "\n",
    "class analyzed_query(BaseModel):\n",
    "    \"\"\"Identifying whether a geometric feature is present in the database and stating the name of the feature\"\"\"\n",
    "    answer: str= Field(description=\"YES or NO\")\n",
    "    features: List= Field(description=\"Name of the identified geometrical feature\")\n",
    "\n",
    "class Response(BaseModel):\n",
    "    \"\"\"Listing the answer of whether the feature is present in the database and the name of the feature\"\"\"\n",
    "    Response: List[analyzed_query]\n",
    "    \n",
    "chat = ChatOpenAI(model=\"gpt-3.5-turbo\", temperature=0.5)\n",
    "examples = [\n",
    "    {\"input\": input_examples, \"output\": output_examples},\n",
    "]\n",
    "\n",
    "example_prompt = ChatPromptTemplate.from_messages([\n",
    "    (\"human\", \"{input}\"),\n",
    "    (\"ai\", \"{output}\"),\n",
    "]\n",
    ")\n",
    "\n",
    "few_shot_prompt = FewShotChatMessagePromptTemplate(\n",
    "    example_prompt=example_prompt,\n",
    "    examples=examples,\n",
    ")\n"
   ]
  },
  {
   "cell_type": "code",
   "execution_count": 8,
   "metadata": {},
   "outputs": [
    {
     "name": "stdout",
     "output_type": "stream",
     "text": [
      "YES \n",
      " ['blend faces', 'edges']\n"
     ]
    }
   ],
   "source": [
    "'''change the human variable to test different inputs'''\n",
    "human = (\"select all blend faces and then select their edges\")\n",
    "\n",
    "parser = PydanticOutputParser(pydantic_object=analyzed_query)\n",
    "prompt = ChatPromptTemplate.from_messages([(\"system\", rag_prompt + \"Answer the user query. Print the output in Json format according to the instructions.\\n{format_instructions}\",), (\"human\", human),]).partial(format_instructions=parser.get_format_instructions())\n",
    "chain = prompt | chat | parser\n",
    "feature_extractor = chain.invoke({})\n",
    "answer = feature_extractor.answer\n",
    "\n",
    "extracted_features = feature_extractor.features\n",
    "print(answer, \"\\n\", extracted_features)"
   ]
  },
  {
   "cell_type": "code",
   "execution_count": 9,
   "metadata": {},
   "outputs": [],
   "source": [
    "loader = DirectoryLoader(\"RAG\")\n",
    "raw_docs = loader.load()\n",
    "textsplitter = CharacterTextSplitter(chunk_size=2000, chunk_overlap=0)\n",
    "docs = textsplitter.split_documents(raw_docs)\n",
    "db = FAISS.from_documents(docs, OpenAIEmbeddings())\n",
    "retriever = db.as_retriever()\n",
    " \n",
    "\n",
    "prompt_for_rag = ChatPromptTemplate.from_template(\"\"\"You are an assistant that is an expert at RAG (Retrieval Augmented Generation). You have been tasked with looking for the definition of the word provided to you as input and generate a summary of the available information.\"\n",
    "            You will use only the context provided to you.                                 \n",
    "            Context:{context}\n",
    "            Query_to_db:{query}\"\"\")\n",
    "rag_chain = ({\"context\": retriever, \"query\": RunnablePassthrough()}) | prompt_for_rag | chat | StrOutputParser()"
   ]
  },
  {
   "cell_type": "code",
   "execution_count": 10,
   "metadata": {},
   "outputs": [
    {
     "name": "stdout",
     "output_type": "stream",
     "text": [
      "The definition of \"blend faces\" and \"edges\" is not explicitly provided in the given context. However, based on the information available, we can infer that \"edges\" refer to the linear features that connect various components in a CAD model, and \"blend faces\" could potentially refer to the process of smoothly transitioning or merging planar surfaces together.\n"
     ]
    }
   ],
   "source": [
    "#Base prompt chain, generates the first yaml version with minimal context\n",
    "\n",
    "base_prompt = ChatPromptTemplate.from_messages([(\"system\", system1), few_shot_prompt, MessagesPlaceholder(variable_name=\"messages\")])\n",
    "yaml_generator = base_prompt | chat \n",
    "rag_output = rag_chain.invoke(f\"What is the definition of {extracted_features}?\")\n",
    "print(rag_output)\n",
    "\n",
    "def chain_yes():\n",
    "    chain = yaml_generator | StrOutputParser()\n",
    "    yaml = chain.invoke({\"messages\": [human]}, {\"tags\": [\"chain_yes\"]})\n",
    "    print(\"RAG not required, generating YAML\")\n",
    "    print()\n",
    "    print(yaml)\n",
    "    print()\n",
    "    return yaml\n",
    "\n",
    "def chain_no():\n",
    "    chain = yaml_generator | StrOutputParser()\n",
    "    ai = AIMessage(content=rag_output)\n",
    "    yaml = chain.invoke({\"messages\":[ai]}, {\"tags\": [\"chain_no\"]})\n",
    "    print(\"Getting more information using RAG, then generating YAML\")\n",
    "    print()\n",
    "    print(yaml)\n",
    "    print()\n",
    "    return yaml\n",
    "\n",
    "def decision_maker(response_obj: analyzed_query):\n",
    "    for item in response_obj:\n",
    "        if item == \"YES\":\n",
    "            return chain_yes()\n",
    "        elif item == \"NO\":\n",
    "            return chain_no()\n"
   ]
  },
  {
   "cell_type": "code",
   "execution_count": 5,
   "metadata": {},
   "outputs": [
    {
     "name": "stdout",
     "output_type": "stream",
     "text": [
      "RAG not required, generating YAML\n",
      "\n",
      "- filter: select * from faces where type like \"Blend\"\n",
      "- expand: faceedges\n",
      "\n"
     ]
    }
   ],
   "source": [
    "model_output = []\n",
    "for answer in feature_extractor:\n",
    "    model_output.append(decision_maker(answer))"
   ]
  },
  {
   "cell_type": "code",
   "execution_count": 11,
   "metadata": {},
   "outputs": [
    {
     "name": "stdout",
     "output_type": "stream",
     "text": [
      "- filter: select * from faces where type like \"Blend\"\n",
      "- expand: faceedges\n",
      "---\n",
      "\n",
      "The provided YAML code is accurate and fulfills the user's request to select all blend faces and then select their edges. The code effectively filters the faces based on the type \"Blend\" and then expands to select the corresponding edges. \n",
      "\n",
      "Well done! The code is clear and directly addresses the user's query.\n",
      "---\n",
      "\n",
      "- filter: select * from faces where type like \"Blend\"\n",
      "- expand: faceedges\n",
      "---\n",
      "\n",
      "The YAML code provided accurately selects all blend faces and then proceeds to select their edges. The filtering condition for the type \"Blend\" is correctly applied, followed by the expansion to include the corresponding edges.\n",
      "\n",
      "The code is concise and effectively addresses the user's request. Great job!\n",
      "---\n",
      "\n"
     ]
    }
   ],
   "source": [
    "\n",
    "            \n"
   ]
  }
 ],
 "metadata": {
  "kernelspec": {
   "display_name": "myenv",
   "language": "python",
   "name": "python3"
  },
  "language_info": {
   "codemirror_mode": {
    "name": "ipython",
    "version": 3
   },
   "file_extension": ".py",
   "mimetype": "text/x-python",
   "name": "python",
   "nbconvert_exporter": "python",
   "pygments_lexer": "ipython3",
   "version": "3.10.13"
  }
 },
 "nbformat": 4,
 "nbformat_minor": 2
}
