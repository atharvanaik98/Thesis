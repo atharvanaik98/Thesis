{
 "cells": [
  {
   "cell_type": "code",
   "execution_count": 3,
   "metadata": {},
   "outputs": [],
   "source": [
    "from langchain_core.prompts import ChatPromptTemplate, FewShotChatMessagePromptTemplate, MessagesPlaceholder, PromptTemplate\n",
    "from langchain_openai import ChatOpenAI\n",
    "from pathlib import Path\n",
    "from langchain_core.output_parsers import StrOutputParser\n",
    "from langchain.output_parsers import PydanticToolsParser, PydanticOutputParser\n",
    "from langchain_core.pydantic_v1 import BaseModel, Field, validator\n",
    "from langchain_core.messages import AIMessage, BaseMessage, HumanMessage\n",
    "from typing import Sequence, List\n",
    "from langgraph.graph import MessageGraph, END\n",
    "from langchain_community.document_loaders import DirectoryLoader\n",
    "from langchain_community.vectorstores import FAISS\n",
    "from langchain_text_splitters import CharacterTextSplitter\n",
    "from langchain_openai import OpenAIEmbeddings\n",
    "from langchain_core.runnables import RunnablePassthrough\n",
    "import json\n",
    "import nest_asyncio\n",
    "nest_asyncio.apply()\n",
    "\n",
    "\n",
    "#function to call a path to the file and read it. \n",
    "def context_gen(file_name):\n",
    "    Folder = \"Context_files\"\n",
    "    here = Path(locals().get('__file__', Folder)).resolve()\n",
    "    parameter = (here / file_name).read_text()\n",
    "    return parameter\n",
    "\n",
    "system1 = context_gen(\"system1.txt\")\n",
    "input_examples = context_gen(\"inputex.txt\")\n",
    "output_examples = context_gen(\"outputex.txt\")\n",
    "\n",
    "examples = [\n",
    "    {\"input\": input_examples, \"output\": output_examples},\n",
    "]\n",
    "\n",
    "example_prompt = ChatPromptTemplate.from_messages([\n",
    "    (\"human\", \"{input}\"),\n",
    "    (\"ai\", \"{output}\"),\n",
    "]\n",
    ")\n",
    "\n",
    "few_shot_prompt = FewShotChatMessagePromptTemplate(\n",
    "    example_prompt=example_prompt,\n",
    "    examples=examples,\n",
    ")\n"
   ]
  },
  {
   "cell_type": "code",
   "execution_count": 15,
   "metadata": {},
   "outputs": [
    {
     "name": "stdout",
     "output_type": "stream",
     "text": [
      "1\n",
      "- filter: select * from faces where area between 7122.5797669238925 and 8705.375270684757\n"
     ]
    }
   ],
   "source": [
    "\n",
    "\n",
    "\n",
    "\n",
    "selected_information = str([ { 'area': 7913.977518804325,\n",
    "    'color': '129',\n",
    "    'name': '',\n",
    "    'normal_xangle': 88.91915564832172,\n",
    "    'normal_xrad': 88.63650794449349,\n",
    "    'normal_yangle': 99.99820246076948,\n",
    "    'normal_yrad': 37.40282571012375,\n",
    "    'normal_zangle': 10.057650720829194,\n",
    "    'normal_zrad': 99.71548040657893,\n",
    "    'perimeter': 381.7590814461647,\n",
    "    'radius': 0.0,\n",
    "    'radius_major': 393700786.4015748,\n",
    "    'radius_minor': 393700786.4015748,\n",
    "    'tag': 60063,\n",
    "    'type': 'Planar',\n",
    "    'x': 24.269793743105343,\n",
    "    'xaxis': 161.51874737439348,\n",
    "    'xyangle': 81.28639621100689,\n",
    "    'y': 158.35234759516737,\n",
    "    'yaxis': 40.02327638793846,\n",
    "    'yzangle': 11.363734744500334,\n",
    "    'z': 31.82514358950226,\n",
    "    'zaxis': 160.20140098399133,\n",
    "    'zxangle': 37.32907423610868}])\n",
    "\n",
    "chat_history.append(selected_information)\n",
    "\n",
    "if len(chat_history) == 0: \n",
    "    human_prompt = \"select all faces with that have area greater than 1000\"\n",
    "    prompt = ChatPromptTemplate.from_messages([(\"system\", system1), (\"user\",  human_prompt)])\n",
    "    chain = prompt | chat | StrOutputParser()    \n",
    "    result = chain.invoke({})\n",
    "elif len(chat_history) > 0:\n",
    "c\n",
    "print(len(chat_history))\n",
    "print(result)\n"
   ]
  }
 ],
 "metadata": {
  "kernelspec": {
   "display_name": "simcenter",
   "language": "python",
   "name": "python3"
  },
  "language_info": {
   "codemirror_mode": {
    "name": "ipython",
    "version": 3
   },
   "file_extension": ".py",
   "mimetype": "text/x-python",
   "name": "python",
   "nbconvert_exporter": "python",
   "pygments_lexer": "ipython3",
   "version": "3.10.13"
  }
 },
 "nbformat": 4,
 "nbformat_minor": 2
}
