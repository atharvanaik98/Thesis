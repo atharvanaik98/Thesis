{
 "cells": [
  {
   "cell_type": "code",
   "execution_count": 47,
   "metadata": {},
   "outputs": [],
   "source": [
    "from langchain_openai import OpenAI\n",
    "from langchain_core.prompts import ChatPromptTemplate, FewShotChatMessagePromptTemplate, MessagesPlaceholder\n",
    "from langchain_openai import ChatOpenAI\n",
    "from pathlib import Path\n",
    "from langchain_core.output_parsers import StrOutputParser\n",
    "from langchain.output_parsers import PydanticToolsParser\n",
    "import datetime\n",
    "from typing import Literal, Optional, Tuple\n",
    "from langchain_core.pydantic_v1 import BaseModel, Field\n",
    "from langchain_core.messages import AIMessage, BaseMessage, HumanMessage\n",
    "from langchain.globals import set_debug\n",
    "from typing import List, Sequence\n",
    "from langgraph.graph import MessageGraph, END\n",
    "\n"
   ]
  },
  {
   "cell_type": "code",
   "execution_count": 54,
   "metadata": {},
   "outputs": [],
   "source": [
    "def create_agent(number):\n",
    "    # This function is used to create an agent \n",
    "    llm = ChatOpenAI(model = \"gpt-3.5-turbo\", temperature = 0.5)\n",
    "    llm_with_tools = llm.bind_functions([SubQuery])\n",
    "    prompt = ChatPromptTemplate.from_messages([(\"system\", system_message), MessagesPlaceholder(variable_name = \"messages\")])\n",
    "    request = HumanMessage(content =human)\n",
    "    \n",
    "    llm_response = \"\"\n",
    "    if number == 1:\n",
    "        parser = PydanticToolsParser(tools=[SubQuery])\n",
    "        chain = prompt | llm_with_tools | parser\n",
    "        for chunk in chain.stream({\"messages\":[request]}):\n",
    "            print(chunk)\n",
    "            output = chunk[0].sub_query\n",
    "            print(output)    \n",
    "  \n",
    "\n",
    "    elif number == 2:\n",
    "        parser = StrOutputParser()\n",
    "        chain = prompt | llm | parser\n",
    "        for chunk in chain.stream({\"messages\":[request]}):\n",
    "            output = chunk\n",
    "            print(output)\n",
    "        return\n",
    "\n",
    "\n",
    "\n",
    "#Definition of subquery\n",
    "class SubQuery(BaseModel):\n",
    "    '''Search for the geometric definition of a feature across the vector database'''\n",
    "\n",
    "    sub_query: str = Field(\n",
    "        ...,\n",
    "        description=\"The text to be used as a sub-query in the prompt.\",\n",
    "    )   \n",
    "\n",
    "#function to call a path to the file and read it. \n",
    "def context_gen(file_name):\n",
    "    Folder = \"VertexLang\"\n",
    "    here = Path(locals().get('__file__', Folder)).resolve()\n",
    "    parameter = (here / file_name).read_text()\n",
    "    return parameter\n",
    "\n",
    "#remove code fences from the output\n",
    "def remove_code_fences(text):\n",
    "    lines = text.split(\"\\n\")\n",
    "    lines = [line for line in lines if not line.strip().startswith('```')]\n",
    "    lines[0] = lines[0].replace(' -', '-', 1)\n",
    "    return \"\\n\".join(lines)\n",
    "\n",
    "#fewshot prompt definition\n",
    "input_examples = context_gen(\"inputex.txt\")\n",
    "output_examples = context_gen(\"outputex.txt\")\n",
    "examples = [\n",
    "    {\"input\": input_examples, \"output\": output_examples},\n",
    "]\n",
    "\n",
    "example_prompt = ChatPromptTemplate.from_messages([\n",
    "    (\"human\", \"{input}\"),\n",
    "    (\"ai\", \"{output}\"),\n",
    "]\n",
    ")\n",
    "\n",
    "few_shot_prompt = FewShotChatMessagePromptTemplate(\n",
    "    example_prompt=example_prompt,\n",
    "    examples=examples,\n",
    ")\n",
    "\n",
    "human = (\"Select all vanes\")\n"
   ]
  },
  {
   "cell_type": "code",
   "execution_count": 55,
   "metadata": {},
   "outputs": [
    {
     "name": "stdout",
     "output_type": "stream",
     "text": [
      "[]\n"
     ]
    },
    {
     "ename": "IndexError",
     "evalue": "list index out of range",
     "output_type": "error",
     "traceback": [
      "\u001b[1;31m---------------------------------------------------------------------------\u001b[0m",
      "\u001b[1;31mIndexError\u001b[0m                                Traceback (most recent call last)",
      "Cell \u001b[1;32mIn[55], line 3\u001b[0m\n\u001b[0;32m      1\u001b[0m \u001b[38;5;66;03m#first agent \u001b[39;00m\n\u001b[0;32m      2\u001b[0m system_message \u001b[38;5;241m=\u001b[39m context_gen(\u001b[38;5;124m\"\u001b[39m\u001b[38;5;124msystem2.txt\u001b[39m\u001b[38;5;124m\"\u001b[39m)\n\u001b[1;32m----> 3\u001b[0m create_agent(\u001b[38;5;241m1\u001b[39m)\n",
      "Cell \u001b[1;32mIn[54], line 14\u001b[0m, in \u001b[0;36mcreate_agent\u001b[1;34m(number)\u001b[0m\n\u001b[0;32m     12\u001b[0m     \u001b[38;5;28;01mfor\u001b[39;00m chunk \u001b[38;5;129;01min\u001b[39;00m chain\u001b[38;5;241m.\u001b[39mstream({\u001b[38;5;124m\"\u001b[39m\u001b[38;5;124mmessages\u001b[39m\u001b[38;5;124m\"\u001b[39m:[request]}):\n\u001b[0;32m     13\u001b[0m         \u001b[38;5;28mprint\u001b[39m(chunk)\n\u001b[1;32m---> 14\u001b[0m         output \u001b[38;5;241m=\u001b[39m chunk[\u001b[38;5;241m0\u001b[39m]\u001b[38;5;241m.\u001b[39msub_query\n\u001b[0;32m     15\u001b[0m         \u001b[38;5;28mprint\u001b[39m(output)    \n\u001b[0;32m     18\u001b[0m \u001b[38;5;28;01melif\u001b[39;00m number \u001b[38;5;241m==\u001b[39m \u001b[38;5;241m2\u001b[39m:\n",
      "\u001b[1;31mIndexError\u001b[0m: list index out of range"
     ]
    }
   ],
   "source": [
    "#first agent \n",
    "system_message = context_gen(\"system2.txt\")\n",
    "create_agent(1)\n"
   ]
  },
  {
   "cell_type": "code",
   "execution_count": null,
   "metadata": {},
   "outputs": [
    {
     "ename": "NameError",
     "evalue": "name 'output' is not defined",
     "output_type": "error",
     "traceback": [
      "\u001b[1;31m---------------------------------------------------------------------------\u001b[0m",
      "\u001b[1;31mNameError\u001b[0m                                 Traceback (most recent call last)",
      "Cell \u001b[1;32mIn[50], line 1\u001b[0m\n\u001b[1;32m----> 1\u001b[0m output\n",
      "\u001b[1;31mNameError\u001b[0m: name 'output' is not defined"
     ]
    }
   ],
   "source": []
  }
 ],
 "metadata": {
  "kernelspec": {
   "display_name": "Python 3",
   "language": "python",
   "name": "python3"
  },
  "language_info": {
   "codemirror_mode": {
    "name": "ipython",
    "version": 3
   },
   "file_extension": ".py",
   "mimetype": "text/x-python",
   "name": "python",
   "nbconvert_exporter": "python",
   "pygments_lexer": "ipython3",
   "version": "3.11.6"
  }
 },
 "nbformat": 4,
 "nbformat_minor": 2
}
