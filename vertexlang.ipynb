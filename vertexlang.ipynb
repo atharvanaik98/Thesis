{
 "cells": [
  {
   "cell_type": "code",
   "execution_count": 37,
   "metadata": {},
   "outputs": [
    {
     "name": "stdout",
     "output_type": "stream",
     "text": [
      "- filter: select * from faces where type like \"Cylindrical\"\n",
      "- expand: faceedges\n",
      "- filter: select * from faces where type like \"Planar\"\n",
      "\n"
     ]
    }
   ],
   "source": [
    "from langchain_google_vertexai import VertexAI, VertexAIEmbeddings, ChatVertexAI\n",
    "import vertexai\n",
    "from langchain_core.prompts import ChatPromptTemplate\n",
    "from langchain_google_vertexai import ChatVertexAI\n",
    "from pathlib import Path\n",
    "from langchain_core.output_parsers import StrOutputParser\n",
    "\n",
    "def context_gen(file_name):\n",
    "    Folder = \"VertexLang\"\n",
    "    here = Path(locals().get('__file__', Folder)).resolve()\n",
    "    parameter = (here / file_name).read_text()\n",
    "    return parameter\n",
    "\n",
    "def remove_code_fences(text):\n",
    "    lines = text.split(\"'\")\n",
    "    lines[0] = lines[0].replace(' -', '-', 1)\n",
    "    return \"'\".join(lines)\n",
    "\n",
    "\n",
    "def test_vertexai(string):\n",
    "    import textwrap\n",
    "    prompt = ChatPromptTemplate.from_messages([(\"system\", system), (\"user\", input_examples), (\"assistant\", schema), (\"human\", string)])\n",
    "    chat = ChatVertexAI()\n",
    "    chain = prompt | chat | output_parser\n",
    "    result = chain.invoke({})\n",
    "    print(remove_code_fences(result))\n",
    "    print()\n",
    "    return\n",
    "\n",
    "\n",
    "\n",
    "vertexai.init(project = \"totemic-veld-412608\")\n",
    "llm = ChatVertexAI(model_name = \"gemini-1.0-pro\", \n",
    "                temperature = \"0.5\", \n",
    "                max_output_tokens = 1000)\n",
    "\n",
    "output_parser = StrOutputParser()\n",
    "\n",
    "\n",
    "system = context_gen(\"systemmsg.txt\")\n",
    "input_examples = context_gen(\"inputex.txt\")\n",
    "schema = context_gen(\"dataBaseSchema.txt\")\n",
    "human = (\"select all boltholes and then select their corresponding edges and then select all flanges\")\n",
    "test_vertexai(human)"
   ]
  },
  {
   "cell_type": "code",
   "execution_count": null,
   "metadata": {},
   "outputs": [],
   "source": [
    "string = input(\"test selection: \")\n",
    "test_vertexai(string)\n"
   ]
  }
 ],
 "metadata": {
  "kernelspec": {
   "display_name": "Python 3",
   "language": "python",
   "name": "python3"
  },
  "language_info": {
   "codemirror_mode": {
    "name": "ipython",
    "version": 3
   },
   "file_extension": ".py",
   "mimetype": "text/x-python",
   "name": "python",
   "nbconvert_exporter": "python",
   "pygments_lexer": "ipython3",
   "version": "3.11.6"
  }
 },
 "nbformat": 4,
 "nbformat_minor": 2
}
