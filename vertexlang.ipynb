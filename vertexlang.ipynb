{
 "cells": [
  {
   "cell_type": "markdown",
   "metadata": {},
   "source": [
    "Import necessary packages"
   ]
  },
  {
   "cell_type": "code",
   "execution_count": null,
   "metadata": {},
   "outputs": [],
   "source": [
    "from langchain_google_vertexai import VertexAI, VertexAIEmbeddings, ChatVertexAI\n",
    "import vertexai\n",
    "from langchain_core.prompts import ChatPromptTemplate, MessagesPlaceholder\n",
    "from langchain_google_vertexai import ChatVertexAI\n",
    "from pathlib import Path\n",
    "from langchain_core.output_parsers import StrOutputParser\n",
    "from typing import List, Sequence\n",
    "from langgraph.graph import END, MessageGraph\n",
    "\n"
   ]
  },
  {
   "cell_type": "code",
   "execution_count": 17,
   "metadata": {},
   "outputs": [
    {
     "name": "stdout",
     "output_type": "stream",
     "text": [
      "- filter: select * from faces where name like \"%BoltHole%\"\n",
      "- expand: faceedges\n",
      "- filter: select * from faces where name like \"%Flange%\"\n",
      "\n"
     ]
    }
   ],
   "source": [
    "#function to call a path to the file and read it. \n",
    "def context_gen(file_name):\n",
    "    Folder = \"VertexLang\"\n",
    "    here = Path(locals().get('__file__', Folder)).resolve()\n",
    "    parameter = (here / file_name).read_text()\n",
    "    return parameter\n",
    "\n",
    "#remove code fences from the output\n",
    "def remove_code_fences(text):\n",
    "    lines = text.split(\"'\")\n",
    "    lines[0] = lines[0].replace(' -', '-', 1)\n",
    "    return \"'\".join(lines)\n",
    "\n",
    "#select an output parser\n",
    "output_parser = StrOutputParser()\n",
    "\n",
    "#function definition to test the vertexai model\n",
    "#Intiate vertexai and the model that has been chosen for generation\n",
    "vertexai.init(project = \"totemic-veld-412608\")\n",
    "llm = ChatVertexAI(model_name = \"gemini-1.0-pro\", \n",
    "                temperature = \"0.5\", \n",
    "                max_output_tokens = 1000)\n",
    "\n",
    "\n",
    "\n",
    "#create inputs to the model, telling it what needs to be done. \n",
    "system = context_gen(\"systemmsg.txt\")\n",
    "input_examples = context_gen(\"inputex.txt\")\n",
    "schema = context_gen(\"dataBaseSchema.txt\")\n",
    "human = (\"select all boltholes and then select their corresponding edges and then select all flanges\")\n",
    "reflect = ChatPromptTemplate.from_messages([(\"human\", ref_system), (\"assistant\", generated_response), (\"user\", query)])\n",
    "chat = ChatVertexAI()\n",
    "\n",
    "chain = reflect | chat | output_parser\n",
    "result = chain.invoke({})\n",
    "print(remove_code_fences(result))\n",
    "print()\n"
   ]
  },
  {
   "cell_type": "markdown",
   "metadata": {},
   "source": [
    "Reflection prompt"
   ]
  },
  {
   "cell_type": "code",
   "execution_count": 19,
   "metadata": {},
   "outputs": [
    {
     "name": "stdout",
     "output_type": "stream",
     "text": [
      "- filter: select * from faces where name like \"%BoltHole%\"\n",
      "- expand: faceedges\n",
      "- filter: select * from faces where name like \"%Flange%\"\n"
     ]
    }
   ],
   "source": [
    "ref_system = context_gen(\"ref_system.txt\")\n",
    "generated_response = result\n",
    "query = human\n",
    "prompt = ChatPromptTemplate.from_messages([(\"system\", ref_system), (\"user\", input_examples), (\"assistant\", schema), (\"human\", human)])\n",
    "chat = ChatVertexAI()\n",
    "chain = reflect | chat | output_parser\n",
    "reflected_response = chain.invoke({})\n",
    "print(remove_code_fences(reflected_response))"
   ]
  }
 ],
 "metadata": {
  "kernelspec": {
   "display_name": "Python 3",
   "language": "python",
   "name": "python3"
  },
  "language_info": {
   "codemirror_mode": {
    "name": "ipython",
    "version": 3
   },
   "file_extension": ".py",
   "mimetype": "text/x-python",
   "name": "python",
   "nbconvert_exporter": "python",
   "pygments_lexer": "ipython3",
   "version": "3.11.6"
  }
 },
 "nbformat": 4,
 "nbformat_minor": 2
}
