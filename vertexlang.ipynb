{
 "cells": [
  {
   "cell_type": "code",
   "execution_count": 1,
   "metadata": {},
   "outputs": [
    {
     "name": "stdout",
     "output_type": "stream",
     "text": [
      " ```yaml\n",
      "  - filter: select * from faces where type like \"Blend\"\n",
      "```\n"
     ]
    }
   ],
   "source": [
    "from langchain_google_vertexai import VertexAI, VertexAIEmbeddings, ChatVertexAI\n",
    "import vertexai\n",
    "from langchain_core.prompts import ChatPromptTemplate\n",
    "from langchain_google_vertexai import ChatVertexAI\n",
    "from pathlib import Path\n",
    "from langchain_core.output_parsers import StrOutputParser\n",
    "\n",
    "def context_gen(file_name):\n",
    "    Folder = \"VertexLang\"\n",
    "    here = Path(locals().get('__file__', Folder)).resolve()\n",
    "    parameter = (here / file_name).read_text()\n",
    "    return parameter\n",
    "\n",
    "vertexai.init(project = \"totemic-veld-412608\")\n",
    "llm = ChatVertexAI(model_name = \"gemini-1.0-pro\", \n",
    "               temperature = \"0.0\", \n",
    "               max_tokens = 100,\n",
    "               convert_system_message_to_human = True)\n",
    "\n",
    "output_parser = StrOutputParser()\n",
    "\n",
    "\n",
    "\n",
    "\n",
    "system = context_gen(\"systemmsg.txt\")\n",
    "input_examples = context_gen(\"inputex.txt\")\n",
    "schema = context_gen(\"dataBaseSchema.txt\")\n",
    "human = (\"select all flanges\")\n",
    "prompt = ChatPromptTemplate.from_messages([(\"system\", system), (\"user\", input_examples), (\"assistant\", schema), (\"human\", human)])\n",
    "\n",
    "chat = ChatVertexAI()\n",
    "\n",
    "chain = prompt | chat | output_parser\n",
    "result = chain.invoke({})\n",
    "print(result)\n"
   ]
  },
  {
   "cell_type": "code",
   "execution_count": null,
   "metadata": {},
   "outputs": [],
   "source": []
  }
 ],
 "metadata": {
  "kernelspec": {
   "display_name": "Python 3",
   "language": "python",
   "name": "python3"
  },
  "language_info": {
   "codemirror_mode": {
    "name": "ipython",
    "version": 3
   },
   "file_extension": ".py",
   "mimetype": "text/x-python",
   "name": "python",
   "nbconvert_exporter": "python",
   "pygments_lexer": "ipython3",
   "version": "3.11.6"
  }
 },
 "nbformat": 4,
 "nbformat_minor": 2
}
