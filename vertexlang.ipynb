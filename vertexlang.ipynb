{
 "cells": [
  {
   "cell_type": "markdown",
   "metadata": {},
   "source": [
    "Import necessary packages"
   ]
  },
  {
   "cell_type": "code",
   "execution_count": 41,
   "metadata": {},
   "outputs": [],
   "source": [
    "from langchain_google_vertexai import VertexAI, VertexAIEmbeddings, ChatVertexAI\n",
    "import vertexai\n",
    "from langchain_core.prompts import ChatPromptTemplate, MessagesPlaceholder, FewShotChatMessagePromptTemplate\n",
    "from langchain_google_vertexai import ChatVertexAI\n",
    "from pathlib import Path\n",
    "from langchain_core.output_parsers import StrOutputParser\n",
    "from typing import List, Sequence\n",
    "from langgraph.graph import END, MessageGraph\n",
    "\n"
   ]
  },
  {
   "cell_type": "markdown",
   "metadata": {},
   "source": [
    "Function definitions"
   ]
  },
  {
   "cell_type": "code",
   "execution_count": 42,
   "metadata": {},
   "outputs": [],
   "source": [
    "#function to call a path to the file and read it. \n",
    "def context_gen(file_name):\n",
    "    Folder = \"VertexLang\"\n",
    "    here = Path(locals().get('__file__', Folder)).resolve()\n",
    "    parameter = (here / file_name).read_text()\n",
    "    return parameter\n",
    "\n",
    "#remove code fences from the output\n",
    "def remove_code_fences(text):\n",
    "    lines = text.split(\"\\n\")\n",
    "\n",
    "    lines = [line for line in lines if not line.strip().startswith('```')]\n",
    "    lines[0] = lines[0].replace(' -', '-', 1)\n",
    "    return \"\\n\".join(lines)\n",
    "\n",
    "#invoke and run the model with the given prompt\n",
    "def test_vertexai(few_shot_prompt):\n",
    "        generate = ChatPromptTemplate.from_messages([\n",
    "    (\"system\", system),\n",
    "    few_shot_prompt,\n",
    "    (\"human\", human),\n",
    "    ])\n",
    "        chat = ChatVertexAI(model_name=\"gemini-pro\", temperature=0.5, convert_system_message_to_human=True)\n",
    "        #select an output parser\n",
    "        output_parser = StrOutputParser()\n",
    "        chain = generate | chat | output_parser\n",
    "        result = chain.invoke({}, {\"tags\": [\"loop 001\"]})\n",
    "        print(remove_code_fences(result))\n",
    "        print()\n",
    "        return\n"
   ]
  },
  {
   "cell_type": "markdown",
   "metadata": {},
   "source": [
    "Model Inputs"
   ]
  },
  {
   "cell_type": "code",
   "execution_count": 43,
   "metadata": {},
   "outputs": [],
   "source": [
    "\n",
    "#create inputs to the model, telling it what needs to be done. \n",
    "system = context_gen(\"systemmsg.txt\")\n",
    "output_examples = context_gen(\"outputex.txt\")\n",
    "input_examples = context_gen(\"inputex.txt\")\n",
    "schema = context_gen(\"dataBaseSchema.txt\")\n",
    "\n",
    "'''change the human variable to test different inputs'''\n",
    "human = (\"select all boltholes and then select their corresponding edges and then select all circular planar faces\")\n"
   ]
  },
  {
   "cell_type": "markdown",
   "metadata": {},
   "source": [
    "Few shot prompts example template "
   ]
  },
  {
   "cell_type": "code",
   "execution_count": 44,
   "metadata": {},
   "outputs": [
    {
     "name": "stdout",
     "output_type": "stream",
     "text": [
      "- filter: select * from faces where type like \"Cylindrical\" and radius < 10\n",
      "- expand: faceedges\n",
      "- filter: select * from faces where type like \"Planar\" and radius = 0 and type like \"Circular\"\n",
      "\n"
     ]
    }
   ],
   "source": [
    "examples = [\n",
    "    {\"input\": input_examples, \"output\": output_examples},\n",
    "]\n",
    "\n",
    "example_prompt = ChatPromptTemplate.from_messages([\n",
    "    (\"human\", \"{input}\"),\n",
    "    (\"ai\", \"{output}\"),\n",
    "]\n",
    ")\n",
    "\n",
    "few_shot_prompt = FewShotChatMessagePromptTemplate(\n",
    "    example_prompt=example_prompt,\n",
    "    examples=examples,\n",
    ")\n",
    "\n",
    "'''Function call to run the model'''\n",
    "test_vertexai(few_shot_prompt)"
   ]
  }
 ],
 "metadata": {
  "kernelspec": {
   "display_name": "Python 3",
   "language": "python",
   "name": "python3"
  },
  "language_info": {
   "codemirror_mode": {
    "name": "ipython",
    "version": 3
   },
   "file_extension": ".py",
   "mimetype": "text/x-python",
   "name": "python",
   "nbconvert_exporter": "python",
   "pygments_lexer": "ipython3",
   "version": "3.11.6"
  }
 },
 "nbformat": 4,
 "nbformat_minor": 2
}
