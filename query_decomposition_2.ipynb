{
 "cells": [
  {
   "cell_type": "markdown",
   "metadata": {},
   "source": [
    "Import necessary packages"
   ]
  },
  {
   "cell_type": "code",
   "execution_count": 1,
   "metadata": {},
   "outputs": [
    {
     "ename": "SyntaxError",
     "evalue": "invalid syntax. Perhaps you forgot a comma? (initializer.py, line 80)",
     "output_type": "error",
     "traceback": [
      "Traceback \u001b[1;36m(most recent call last)\u001b[0m:\n",
      "\u001b[0m  File \u001b[0;32mc:\\tools\\.pygkn\\pyenvs\\myenv\\Lib\\site-packages\\IPython\\core\\interactiveshell.py:3508\u001b[0m in \u001b[0;35mrun_code\u001b[0m\n    exec(code_obj, self.user_global_ns, self.user_ns)\u001b[0m\n",
      "\u001b[0m  Cell \u001b[0;32mIn[1], line 1\u001b[0m\n    from langchain_google_vertexai import ChatVertexAI\u001b[0m\n",
      "\u001b[0m  File \u001b[0;32mc:\\tools\\.pygkn\\pyenvs\\myenv\\Lib\\site-packages\\langchain_google_vertexai\\__init__.py:1\u001b[0m\n    from langchain_google_vertexai._enums import HarmBlockThreshold, HarmCategory\u001b[0m\n",
      "\u001b[0m  File \u001b[0;32mc:\\tools\\.pygkn\\pyenvs\\myenv\\Lib\\site-packages\\langchain_google_vertexai\\_enums.py:1\u001b[0m\n    from vertexai.generative_models import (  # type: ignore\u001b[0m\n",
      "\u001b[0m  File \u001b[0;32mc:\\tools\\.pygkn\\pyenvs\\myenv\\Lib\\site-packages\\vertexai\\__init__.py:17\u001b[0m\n    from google.cloud.aiplatform import version as aiplatform_version\u001b[0m\n",
      "\u001b[1;36m  File \u001b[1;32mc:\\tools\\.pygkn\\pyenvs\\myenv\\Lib\\site-packages\\google\\cloud\\aiplatform\\__init__.py:24\u001b[1;36m\n\u001b[1;33m    from google.cloud.aiplatform import initializer\u001b[1;36m\n",
      "\u001b[1;36m  File \u001b[1;32mc:\\tools\\.pygkn\\pyenvs\\myenv\\Lib\\site-packages\\google\\cloud\\aiplatform\\initializer.py:80\u001b[1;36m\u001b[0m\n\u001b[1;33m    project_number=project_number,re\u001b[0m\n\u001b[1;37m                                  ^\u001b[0m\n\u001b[1;31mSyntaxError\u001b[0m\u001b[1;31m:\u001b[0m invalid syntax. Perhaps you forgot a comma?\n"
     ]
    }
   ],
   "source": [
    "from langchain_core.prompts import ChatPromptTemplate, FewShotChatMessagePromptTemplate, MessagesPlaceholder, PromptTemplate\n",
    "from langchain_openai import ChatOpenAI\n",
    "from pathlib import Path\n",
    "from langchain_core.output_parsers import StrOutputParser\n",
    "from langchain.output_parsers import PydanticToolsParser\n",
    "from langchain_core.pydantic_v1 import BaseModel, Field\n",
    "from langchain_core.messages import AIMessage, BaseMessage, HumanMessage\n",
    "from typing import Sequence, List\n",
    "from langgraph.graph import MessageGraph, END\n",
    "from langchain_community.document_loaders import DirectoryLoader, UnstructuredExcelLoader\n",
    "from langchain_community.vectorstores import FAISS\n",
    "from langchain_text_splitters import CharacterTextSplitter\n",
    "from langchain_openai import OpenAIEmbeddings\n",
    "from langchain_community.vectorstores.utils import filter_complex_metadata\n",
    "from langchain_core.runnables import RunnablePassthrough\n",
    "import nest_asyncio\n",
    "from langchain import hub\n",
    "nest_asyncio.apply()\n",
    "\n",
    "\n",
    "#function to call a path to the file and read it. \n",
    "def context_gen(file_name):\n",
    "    Folder = \"Context_files\"\n",
    "    here = Path(locals().get('__file__', Folder)).resolve()\n",
    "    parameter = (here / file_name).read_text()\n",
    "    return parameter\n",
    "\n",
    "#remove code fences from the output\n",
    "def remove_code_fences(text):\n",
    "    lines = text.split(\"\\n\")\n",
    "    lines = [line for line in lines if not line.strip().startswith('```')]\n",
    "    lines[0] = lines[0].replace(' -', '-', 1)\n",
    "    print()\n",
    "    return \"\\n\".join(lines)\n",
    "\n",
    "#invoke and run the model with the given prompt\n",
    "\n",
    "\n",
    "\n",
    "#create inputs to the model, telling it what needs to be done. \n",
    "#provides system message\n",
    "system1 = context_gen(\"system1.txt\")\n",
    "\n",
    "#provides the few shot examples\n",
    "output_examples = context_gen(\"outputex.txt\")\n",
    "\n",
    "#provides the input examples\n",
    "input_examples = context_gen(\"inputex.txt\")\n",
    "\n",
    "#provides the database schema\n",
    "schema = context_gen(\"dataBaseSchema.txt\")\n",
    "\n",
    "refsystem = context_gen(\"ref_system copy.txt\")\n",
    "\n",
    "system3 = context_gen(\"system3.txt\")\n",
    "\n",
    "system2 = context_gen(\"system2.txt\")\n",
    "\n",
    "rag_prompt = context_gen(\"rag_prompt.txt\")\n",
    "\n",
    "class SubQuery(BaseModel):\n",
    "    '''Generate a subquery looking, that will be used to extract the definition of a geometric feature.'''\n",
    "\n",
    "    sub_query: str = Field(description=\"Geometric feature that was not found in the database\")   \n",
    "#First input to the model, breaks query down and provides geometry definition\n",
    "\n",
    "class YamlText(BaseModel):\n",
    "    text: str = Field(SQLQuery = \"Yaml Text printed one line at a time\")\n",
    "\n",
    "chat = ChatOpenAI(model=\"gpt-3.5-turbo\", temperature=0.5)"
   ]
  },
  {
   "cell_type": "code",
   "execution_count": null,
   "metadata": {},
   "outputs": [],
   "source": [
    "examples = [\n",
    "    {\"input\": input_examples, \"output\": output_examples},\n",
    "]\n",
    "\n",
    "example_prompt = ChatPromptTemplate.from_messages([\n",
    "    (\"human\", \"{input}\"),\n",
    "    (\"ai\", \"{output}\"),\n",
    "]\n",
    ")\n",
    "\n",
    "few_shot_prompt = FewShotChatMessagePromptTemplate(\n",
    "    example_prompt=example_prompt,\n",
    "    examples=examples,\n",
    ")\n"
   ]
  },
  {
   "cell_type": "code",
   "execution_count": 22,
   "metadata": {},
   "outputs": [
    {
     "name": "stdout",
     "output_type": "stream",
     "text": [
      "[SubQuery(sub_query='flanges with a radius greater than 5m')]\n"
     ]
    }
   ],
   "source": [
    "'''change the human variable to test different inputs'''\n",
    "human = (\"select all flanges with a radius greater than 5m\")\n",
    "chat_with_tools = chat.bind_tools([SubQuery])\n",
    "parser = PydanticToolsParser(tools=[SubQuery])\n",
    "query_analyzer = ChatPromptTemplate.from_messages([(\"system\", rag_prompt), (\"human\", human)])\n",
    "\n",
    "chain = query_analyzer | chat_with_tools | parser\n",
    "rag_output = chain.invoke({}, {\"tags\": [\"loop 001\"]})\n",
    "\n",
    "#strings = str([item for item in rag_output])\n",
    "print(rag_output)\n",
    "\n"
   ]
  },
  {
   "cell_type": "code",
   "execution_count": null,
   "metadata": {},
   "outputs": [],
   "source": [
    "loader = DirectoryLoader(\"./Context_files\")\n",
    "raw_docs = loader.load()\n",
    "textsplitter = CharacterTextSplitter(chunk_size=2000, chunk_overlap=0)\n",
    "docs = textsplitter.split_documents(raw_docs)\n",
    "db = FAISS.from_documents(docs, OpenAIEmbeddings())\n",
    "\n",
    "retriever = db.as_retriever()\n",
    "template = PromptTemplate(template = \"You are an assistant that is an expert at RAG (Retrieval Augmented Generation). You have been tasked with looking for the definition of the word provided to you as input.\"\n",
    "            \"You will use only the context provided to you, and the user input which will be provided in the form of a pydantic object, containting the geometric entity which you are supposed to define, based on the information you have been provided.\"\n",
    "            Context:{context},\n",
    "            query:{sub_query},\n",
    "\n",
    ")\n",
    "prompt_for_rag = \n",
    "\n",
    "rag_chain = ({\"context\": retriever, \"question\": RunnablePassthrough()} | prompt_for_rag | chat | StrOutputParser())\n",
    "\n",
    "rag_chain.invoke(\" What is the best way to Sort all blends by their z position and select the last two blends\")"
   ]
  },
  {
   "cell_type": "code",
   "execution_count": null,
   "metadata": {},
   "outputs": [],
   "source": [
    "#chat prompt template for defining the words \n",
    "definer = ChatPromptTemplate.from_messages([(\"system\", system3), (\"human\", strings),])\n",
    "chat = ChatOpenAI(model_name=\"gpt-3.5-turbo\", temperature=0.5, streaming=True)\n",
    "\n",
    "#using string output parser as the output is a string\n",
    "output_parser = StrOutputParser()\n",
    "chain2 = definer | chat \n",
    "definition = chain2.invoke({}, {\"tags\":[\"loop 003\"]})\n",
    "print(definition.content)\n"
   ]
  },
  {
   "cell_type": "code",
   "execution_count": null,
   "metadata": {},
   "outputs": [],
   "source": [
    "#Base prompt chain, generates the first yaml version with minimal context\n",
    "base_prompt = ChatPromptTemplate.from_messages([(\"system\", system1), MessagesPlaceholder(variable_name=\"messages\")])\n",
    "base_chain = base_prompt | chat \n",
    "\n",
    "#This chain ise used for the reflection prompt, which asks the model to critique and improve on the generated YAML text.\n",
    "reflection_prompt = ChatPromptTemplate.from_messages([(\"system\", refsystem), few_shot_prompt, (\"ai\", definition.content), MessagesPlaceholder(variable_name=\"messages\"), ])\n",
    "reflect = reflection_prompt | chat \n"
   ]
  },
  {
   "cell_type": "code",
   "execution_count": null,
   "metadata": {},
   "outputs": [],
   "source": [
    "async def generation_node(state: Sequence[BaseMessage]):\n",
    "    return await base_chain.ainvoke({\"messages\": state}, {\"tags\": [\"loop 004\"]})\n",
    "\n",
    "\n",
    "async def reflection_node(state: Sequence[BaseMessage]) -> List[BaseMessage]:\n",
    "    # Other messages we need to adjust\n",
    "    cls_map = {\"ai\": HumanMessage, \"human\": AIMessage}\n",
    "    # First message is the original user request. We hold it the same for all nodes\n",
    "    translated = [state[0]] + [cls_map[msg.type](content=msg.content) for msg in state[1:]]\n",
    "    res = await reflect.ainvoke({\"messages\": translated})\n",
    "    # We treat the output of this as human feedback for the generator\n",
    "    return HumanMessage(content=res.content)\n",
    "\n",
    "builder = MessageGraph()\n",
    "builder.add_node(\"generate\", generation_node)\n",
    "builder.add_node(\"reflect\", reflection_node)\n",
    "builder.set_entry_point(\"generate\")\n",
    "\n",
    "def should_continue(state: List[BaseMessage]):\n",
    "    if len(state) > 5:\n",
    "        return END\n",
    "    return \"reflect\"\n",
    "\n",
    "builder.add_conditional_edges(\"generate\", should_continue)\n",
    "builder.add_edge(\"reflect\", \"generate\")\n",
    "graph = builder.compile()\n",
    "\n",
    "async for event in graph.astream([HumanMessage(content=human)]):\n",
    "    for key, value in event.items():\n",
    "        if isinstance(value, dict):\n",
    "            print(value.get('content'))\n",
    "            print('---')\n",
    "            print()\n",
    "        elif isinstance(value, list):\n",
    "             for item in value:\n",
    "                if isinstance(item, dict):\n",
    "                    print(item.get('content'))\n",
    "                    print('---')\n",
    "                    print()\n",
    "                else:\n",
    "                    print(item.content)\n",
    "                    print('---')\n",
    "                    print()\n",
    "                    \n"
   ]
  }
 ],
 "metadata": {
  "kernelspec": {
   "display_name": "PyGKN (myenv, 3.11.6)",
   "language": "python",
   "name": "pygkn-myenv"
  },
  "language_info": {
   "codemirror_mode": {
    "name": "ipython",
    "version": 3
   },
   "file_extension": ".py",
   "mimetype": "text/x-python",
   "name": "python",
   "nbconvert_exporter": "python",
   "pygments_lexer": "ipython3",
   "version": "3.11.6"
  }
 },
 "nbformat": 4,
 "nbformat_minor": 2
}
