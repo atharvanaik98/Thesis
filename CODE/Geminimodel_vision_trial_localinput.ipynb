{
 "cells": [
  {
   "cell_type": "code",
   "execution_count": 1,
   "metadata": {},
   "outputs": [
    {
     "ename": "NameError",
     "evalue": "name '__file__' is not defined",
     "output_type": "error",
     "traceback": [
      "\u001b[1;31m---------------------------------------------------------------------------\u001b[0m",
      "\u001b[1;31mNameError\u001b[0m                                 Traceback (most recent call last)",
      "Cell \u001b[1;32mIn[1], line 15\u001b[0m\n\u001b[0;32m     12\u001b[0m     lines \u001b[38;5;241m=\u001b[39m [line \u001b[38;5;28;01mfor\u001b[39;00m line \u001b[38;5;129;01min\u001b[39;00m lines \u001b[38;5;28;01mif\u001b[39;00m \u001b[38;5;129;01mnot\u001b[39;00m line\u001b[38;5;241m.\u001b[39mstrip()\u001b[38;5;241m.\u001b[39mstartswith(\u001b[38;5;124m'\u001b[39m\u001b[38;5;124m```\u001b[39m\u001b[38;5;124m'\u001b[39m)]\n\u001b[0;32m     13\u001b[0m     \u001b[38;5;28;01mreturn\u001b[39;00m \u001b[38;5;124m'\u001b[39m\u001b[38;5;130;01m\\n\u001b[39;00m\u001b[38;5;124m'\u001b[39m\u001b[38;5;241m.\u001b[39mjoin(lines)\n\u001b[1;32m---> 15\u001b[0m here \u001b[38;5;241m=\u001b[39m Path(\u001b[38;5;18;43m__file__\u001b[39;49m)\u001b[38;5;241m.\u001b[39mparent\n\u001b[0;32m     17\u001b[0m \u001b[38;5;66;03m#Append the contents of the input file to a variable named context\u001b[39;00m\n\u001b[0;32m     18\u001b[0m context \u001b[38;5;241m=\u001b[39m (here \u001b[38;5;241m/\u001b[39m \u001b[38;5;124m\"\u001b[39m\u001b[38;5;124mInput.txt\u001b[39m\u001b[38;5;124m\"\u001b[39m)\u001b[38;5;241m.\u001b[39mread_text()\n",
      "\u001b[1;31mNameError\u001b[0m: name '__file__' is not defined"
     ]
    }
   ],
   "source": [
    "from yaml import load, dump \n",
    "import vertexai\n",
    "import requests\n",
    "from pathlib import Path\n",
    "from vertexai.preview.generative_models import GenerativeModel, Image\n",
    "\n",
    "#initiate the vertex AI with project ID \n",
    "vertexai.init(project = \"totemic-veld-412608\")\n",
    "\n",
    "#function definition to remove code fences from the printed output \n",
    "def remove_code_fences(text):\n",
    "    lines = text.split('\\n')\n",
    "    lines = [line for line in lines if not line.strip().startswith('```')]\n",
    "    return '\\n'.join(lines)\n",
    "\n",
    "def appendtoyaml(filepath, response):\n",
    "    with open (filepath, 'w') as yaml_file:\n",
    "        yaml_file.append(response.text)\n",
    "        yaml_file.close()\n",
    "\n",
    "here = Path(__file__).parent\n",
    "\n",
    "#Append the contents of the input file to a variable named context\n",
    "context = (here / \"Input.txt\").read_text()\n",
    " \n",
    "#provide the model with the image that needs to be analysed.\n",
    "image_file = (here / \"exhaust_case.jpg\").readlink\n",
    "image = Image.load_from_file(image_file)\n",
    "\n",
    "#path to the yaml file\n",
    "filepath = (here / \"query.yml\")\n",
    "\n",
    "#select the generative model \n",
    "model = GenerativeModel(\"gemini-1.0-pro-vision\")\n",
    "\n",
    "#initiate interactive chat environment \n",
    "chat = model.start_chat()\n",
    "\n",
    "#Extract the content in the form of text \n",
    "#context = context.text\n",
    "\n",
    "#send context as input to the model and prepare for user prompt\n",
    "#model._generate_content_streaming(image)\n",
    "config = {\n",
    "    \"temperature\": 0.0,\n",
    "}\n",
    "\n",
    "#Input the prompt here\n",
    "prompt = input(\"Enter the description of the geometry you want to select: \")\n",
    "if prompt == \"cancel\":\n",
    "    prompt = \"cancel\"\n",
    "else: \n",
    "#Generate a response based on the prompt\n",
    "    response = model.generate_content([image, context, prompt], generation_config=config)\n",
    "\n",
    "    print()\n",
    "    #print model response\n",
    "    print(response.text)\n",
    "response = response.text\n",
    "\n",
    "appendtoyaml(filepath, response)\n"
   ]
  }
 ],
 "metadata": {
  "kernelspec": {
   "display_name": "PyGKN (myenv, 3.11.6)",
   "language": "python",
   "name": "pygkn-myenv"
  },
  "language_info": {
   "codemirror_mode": {
    "name": "ipython",
    "version": 3
   },
   "file_extension": ".py",
   "mimetype": "text/x-python",
   "name": "python",
   "nbconvert_exporter": "python",
   "pygments_lexer": "ipython3",
   "version": "3.11.6"
  }
 },
 "nbformat": 4,
 "nbformat_minor": 2
}
