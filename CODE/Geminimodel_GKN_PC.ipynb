{
 "cells": [
  {
   "cell_type": "code",
   "execution_count": 1,
   "metadata": {},
   "outputs": [
    {
     "ename": "NameError",
     "evalue": "name '__file__' is not defined",
     "output_type": "error",
     "traceback": [
      "\u001b[1;31m---------------------------------------------------------------------------\u001b[0m",
      "\u001b[1;31mNameError\u001b[0m                                 Traceback (most recent call last)",
      "Cell \u001b[1;32mIn[1], line 10\u001b[0m\n\u001b[0;32m      8\u001b[0m     lines \u001b[38;5;241m=\u001b[39m [line \u001b[38;5;28;01mfor\u001b[39;00m line \u001b[38;5;129;01min\u001b[39;00m lines \u001b[38;5;28;01mif\u001b[39;00m \u001b[38;5;129;01mnot\u001b[39;00m line\u001b[38;5;241m.\u001b[39mstrip()\u001b[38;5;241m.\u001b[39mstartswith(\u001b[38;5;124m'\u001b[39m\u001b[38;5;124m```\u001b[39m\u001b[38;5;124m'\u001b[39m)]\n\u001b[0;32m      9\u001b[0m     \u001b[38;5;28;01mreturn\u001b[39;00m \u001b[38;5;124m'\u001b[39m\u001b[38;5;130;01m\\n\u001b[39;00m\u001b[38;5;124m'\u001b[39m\u001b[38;5;241m.\u001b[39mjoin(lines)\n\u001b[1;32m---> 10\u001b[0m here \u001b[38;5;241m=\u001b[39m Path(\u001b[38;5;18;43m__file__\u001b[39;49m)\u001b[38;5;241m.\u001b[39mparent\n\u001b[0;32m     11\u001b[0m filepath \u001b[38;5;241m=\u001b[39m (here \u001b[38;5;241m|\u001b[39m \u001b[38;5;124m\"\u001b[39m\u001b[38;5;124myaml.yml\u001b[39m\u001b[38;5;124m\"\u001b[39m)\n\u001b[0;32m     13\u001b[0m model \u001b[38;5;241m=\u001b[39m GenerativeModel(\u001b[38;5;124m\"\u001b[39m\u001b[38;5;124mgemini-pro\u001b[39m\u001b[38;5;124m\"\u001b[39m)\n",
      "\u001b[1;31mNameError\u001b[0m: name '__file__' is not defined"
     ]
    }
   ],
   "source": [
    "import vertexai\n",
    "from vertexai.preview.generative_models import GenerativeModel, ChatSession\n",
    "vertexai.init(project=\"totemic-veld-412608\")\n",
    "import yaml\n",
    "from pathlib import Path\n",
    "def remove_code_fences(text):\n",
    "    lines = text.split('\\n')\n",
    "    lines = [line for line in lines if not line.strip().startswith('```')]\n",
    "    return '\\n'.join(lines)\n",
    "\n",
    "here = Path(__file__).parent\n",
    "filepath = (here | \"yaml.yml\")\n",
    "\n",
    "model = GenerativeModel(\"gemini-pro\")\n",
    "chat = model.start_chat()\n",
    "\n",
    "file = open(r\"C:\\Users\\yy56559\\Downloads\\Input.txt\", \"r\")\n",
    "context = file.read()\n",
    "\n",
    "\n",
    "chat.send_message(context)\n",
    "#Input the prompt here\n",
    "prompt = input(\"Enter the description of the geometry you want to select: \")\n",
    "\n",
    "    #Generate a response based on the prompt\n",
    "response = chat.send_message(prompt)\n",
    "\n",
    "print()\n",
    "print(remove_code_fences(response.text))\n",
    "\n",
    "with open (filepath, 'w') as yaml_file:\n",
    "    yaml.dump(response.text, yaml_file, default_flow_style = False)\n",
    "\n",
    "\n"
   ]
  }
 ],
 "metadata": {
  "kernelspec": {
   "display_name": "PyGKN (myenv, 3.11.6)",
   "language": "python",
   "name": "pygkn-myenv"
  },
  "language_info": {
   "codemirror_mode": {
    "name": "ipython",
    "version": 3
   },
   "file_extension": ".py",
   "mimetype": "text/x-python",
   "name": "python",
   "nbconvert_exporter": "python",
   "pygments_lexer": "ipython3",
   "version": "3.11.6"
  }
 },
 "nbformat": 4,
 "nbformat_minor": 2
}
