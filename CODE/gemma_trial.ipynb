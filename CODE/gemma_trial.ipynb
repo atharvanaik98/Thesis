{
 "cells": [
  {
   "cell_type": "code",
   "execution_count": 19,
   "metadata": {},
   "outputs": [
    {
     "name": "stdout",
     "output_type": "stream",
     "text": [
      "This text describes a YAML document that defines the structure of a database. The document includes information about filters, expansion and other elements. This text does not describe the YAML document itself, it describes the structure of the database.\n"
     ]
    }
   ],
   "source": [
    "from langchain_community.chat_models import ChatOllama\n",
    "from langchain_core.prompts import ChatPromptTemplate\n",
    "from langchain_core.output_parsers import StrOutputParser\n",
    "from pathlib import Path\n",
    "\n",
    "def context_gen(file_name):\n",
    "    Folder = \"VertexLang\"\n",
    "    here = Path(locals().get('__file__', Folder)).resolve()\n",
    "    parameter = (here / file_name).read_text()\n",
    "    return parameter\n",
    "\n",
    "system = context_gen(\"systemmsg.txt\")\n",
    "human = (\"select all faces with radius less than 20\")\n",
    "\n",
    "llm = ChatOllama(model = \"gemma\", temperature=0.5)\n",
    "prompt = ChatPromptTemplate.from_messages([(\"system\", system)])\n",
    "generate = prompt | llm \n",
    "\n",
    "output = generate.invoke({\"input\": \"select all faces with radius less than 20mm\"})\n",
    "print(output.content)\n",
    "\n"
   ]
  }
 ],
 "metadata": {
  "kernelspec": {
   "display_name": "Python 3",
   "language": "python",
   "name": "python3"
  },
  "language_info": {
   "codemirror_mode": {
    "name": "ipython",
    "version": 3
   },
   "file_extension": ".py",
   "mimetype": "text/x-python",
   "name": "python",
   "nbconvert_exporter": "python",
   "pygments_lexer": "ipython3",
   "version": "3.11.6"
  }
 },
 "nbformat": 4,
 "nbformat_minor": 2
}
