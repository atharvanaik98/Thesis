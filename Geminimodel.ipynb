{
 "cells": [
  {
   "cell_type": "code",
   "execution_count": null,
   "metadata": {},
   "outputs": [],
   "source": [
    "import vertexai\n",
    "from vertexai.preview.generative_models import GenerativeModel, ChatSession\n",
    "vertexai.init(project = \"totemic-veld-412608\")\n",
    "def remove_code_fences(text):\n",
    "    lines = text.split('\\n')\n",
    "    lines = [line for line in lines if not line.strip().startswith('```')]\n",
    "    return '\\n'.join(lines)\n",
    "\n",
    "model = GenerativeModel(\"gemini-pro\")\n",
    "chat = model.start_chat()\n",
    "\n",
    "file = open(r\"C:\\Onedrive\\OneDrive - Chalmers\\Thesis Files\\Input.txt\", \"r\")\n",
    "context = file.read()\n",
    "\n",
    "\n",
    "chat.send_message(context)\n",
    "#Input the prompt here\n",
    "prompt = input(\"Enter the description of the geometry you want to select: \")\n",
    "\n",
    "    #Generate a response based on the prompt\n",
    "response = chat.send_message(prompt)\n",
    "\n",
    "print()\n",
    "print(remove_code_fences(response.text))\n",
    "\n",
    "\n",
    "\n",
    "\n"
   ]
  }
 ],
 "metadata": {
  "kernelspec": {
   "display_name": "Python 3",
   "language": "python",
   "name": "python3"
  },
  "language_info": {
   "codemirror_mode": {
    "name": "ipython",
    "version": 3
   },
   "file_extension": ".py",
   "mimetype": "text/x-python",
   "name": "python",
   "nbconvert_exporter": "python",
   "pygments_lexer": "ipython3",
   "version": "3.11.6"
  }
 },
 "nbformat": 4,
 "nbformat_minor": 2
}
