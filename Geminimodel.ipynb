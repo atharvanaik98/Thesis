{
 "cells": [
  {
   "cell_type": "code",
   "execution_count": 3,
   "metadata": {},
   "outputs": [
    {
     "name": "stdout",
     "output_type": "stream",
     "text": [
      "\n",
      "-\n",
      "  - filter: select * from faces where type like \"Planar\" and area > 100\n",
      "-\n",
      "\n",
      "This query should select all planar faces with an area greater than 100. Flanges are typically flat and large, so this query should capture most of them. The area threshold of 100 is just an example and can be adjusted as needed.\n"
     ]
    }
   ],
   "source": [
    "from vertexai.preview.generative_model import GenerativeModel, ChatSession\n",
    "\n",
    "model = GenerativeModel(\"gemini-pro\")\n",
    "chat = model.start_chat()\n",
    "\n",
    "file = open(\"C:\\Onedrive\\OneDrive - Chalmers\\Thesis Files\\Input.txt\", \"r\")\n",
    "context = file.read()\n",
    "\n",
    "while True:\n",
    "    chat.send_message(context)\n",
    "    #Input the prompt here\n",
    "    prompt = input(\"Enter the description of the geometry you want to select: \")\n",
    "\n",
    "    #Generate a response based on the prompt\n",
    "    response = chat.send_message(prompt, context)\n",
    "\n",
    "    print()\n",
    "    print(\"Gemini: \" + response.text)\n",
    "    if prompt == str(\"stop\"):\n",
    "        break\n",
    "\n"
   ]
  }
 ],
 "metadata": {
  "kernelspec": {
   "display_name": "Python 3",
   "language": "python",
   "name": "python3"
  },
  "language_info": {
   "codemirror_mode": {
    "name": "ipython",
    "version": 3
   },
   "file_extension": ".py",
   "mimetype": "text/x-python",
   "name": "python",
   "nbconvert_exporter": "python",
   "pygments_lexer": "ipython3",
   "version": "3.11.6"
  }
 },
 "nbformat": 4,
 "nbformat_minor": 2
}
