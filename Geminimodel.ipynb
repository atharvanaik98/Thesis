{
 "cells": [
  {
   "cell_type": "code",
   "execution_count": 1,
   "metadata": {},
   "outputs": [
    {
     "ename": "FileNotFoundError",
     "evalue": "[Errno 2] No such file or directory: 'C:\\\\Onedrive\\\\OneDrive - Chalmers\\\\Thesis Files\\\\Input.txt'",
     "output_type": "error",
     "traceback": [
      "\u001b[1;31m---------------------------------------------------------------------------\u001b[0m",
      "\u001b[1;31mFileNotFoundError\u001b[0m                         Traceback (most recent call last)",
      "\u001b[1;32mfirestorm98\\Thesis\\Geminimodel.ipynb Cell 1\u001b[0m line \u001b[0;36m1\n\u001b[0;32m     <a href='vscode-notebook-cell://github/firestorm98/Thesis/Geminimodel.ipynb#W2sdnNjb2RlLXZmcw%3D%3D?line=9'>10</a>\u001b[0m model \u001b[39m=\u001b[39m GenerativeModel(\u001b[39m\"\u001b[39m\u001b[39mgemini-pro\u001b[39m\u001b[39m\"\u001b[39m)\n\u001b[0;32m     <a href='vscode-notebook-cell://github/firestorm98/Thesis/Geminimodel.ipynb#W2sdnNjb2RlLXZmcw%3D%3D?line=10'>11</a>\u001b[0m chat \u001b[39m=\u001b[39m model\u001b[39m.\u001b[39mstart_chat()\n\u001b[1;32m---> <a href='vscode-notebook-cell://github/firestorm98/Thesis/Geminimodel.ipynb#W2sdnNjb2RlLXZmcw%3D%3D?line=12'>13</a>\u001b[0m file \u001b[39m=\u001b[39m \u001b[39mopen\u001b[39;49m(\u001b[39mr\u001b[39;49m\u001b[39m\"\u001b[39;49m\u001b[39mC:\u001b[39;49m\u001b[39m\\\u001b[39;49m\u001b[39mOnedrive\u001b[39;49m\u001b[39m\\\u001b[39;49m\u001b[39mOneDrive - Chalmers\u001b[39;49m\u001b[39m\\\u001b[39;49m\u001b[39mThesis Files\u001b[39;49m\u001b[39m\\\u001b[39;49m\u001b[39mInput.txt\u001b[39;49m\u001b[39m\"\u001b[39;49m, \u001b[39m\"\u001b[39;49m\u001b[39mr\u001b[39;49m\u001b[39m\"\u001b[39;49m)\n\u001b[0;32m     <a href='vscode-notebook-cell://github/firestorm98/Thesis/Geminimodel.ipynb#W2sdnNjb2RlLXZmcw%3D%3D?line=13'>14</a>\u001b[0m context \u001b[39m=\u001b[39m file\u001b[39m.\u001b[39mread()\n\u001b[0;32m     <a href='vscode-notebook-cell://github/firestorm98/Thesis/Geminimodel.ipynb#W2sdnNjb2RlLXZmcw%3D%3D?line=16'>17</a>\u001b[0m chat\u001b[39m.\u001b[39msend_message(context)\n",
      "File \u001b[1;32mc:\\tools\\.pygkn\\pyenvs\\myenv\\Lib\\site-packages\\IPython\\core\\interactiveshell.py:310\u001b[0m, in \u001b[0;36m_modified_open\u001b[1;34m(file, *args, **kwargs)\u001b[0m\n\u001b[0;32m    303\u001b[0m \u001b[39mif\u001b[39;00m file \u001b[39min\u001b[39;00m {\u001b[39m0\u001b[39m, \u001b[39m1\u001b[39m, \u001b[39m2\u001b[39m}:\n\u001b[0;32m    304\u001b[0m     \u001b[39mraise\u001b[39;00m \u001b[39mValueError\u001b[39;00m(\n\u001b[0;32m    305\u001b[0m         \u001b[39mf\u001b[39m\u001b[39m\"\u001b[39m\u001b[39mIPython won\u001b[39m\u001b[39m'\u001b[39m\u001b[39mt let you open fd=\u001b[39m\u001b[39m{\u001b[39;00mfile\u001b[39m}\u001b[39;00m\u001b[39m by default \u001b[39m\u001b[39m\"\u001b[39m\n\u001b[0;32m    306\u001b[0m         \u001b[39m\"\u001b[39m\u001b[39mas it is likely to crash IPython. If you know what you are doing, \u001b[39m\u001b[39m\"\u001b[39m\n\u001b[0;32m    307\u001b[0m         \u001b[39m\"\u001b[39m\u001b[39myou can use builtins\u001b[39m\u001b[39m'\u001b[39m\u001b[39m open.\u001b[39m\u001b[39m\"\u001b[39m\n\u001b[0;32m    308\u001b[0m     )\n\u001b[1;32m--> 310\u001b[0m \u001b[39mreturn\u001b[39;00m io_open(file, \u001b[39m*\u001b[39;49margs, \u001b[39m*\u001b[39;49m\u001b[39m*\u001b[39;49mkwargs)\n",
      "\u001b[1;31mFileNotFoundError\u001b[0m: [Errno 2] No such file or directory: 'C:\\\\Onedrive\\\\OneDrive - Chalmers\\\\Thesis Files\\\\Input.txt'"
     ]
    }
   ],
   "source": [
    "import vertexai\n",
    "import urllib\n",
    "from vertexai.preview.generative_models import GenerativeModel, ChatSession\n",
    "vertexai.init(project = \"totemic-veld-412608\")\n",
    "def remove_code_fences(text):\n",
    "    lines = text.split('\\n')\n",
    "    lines = [line for line in lines if not line.strip().startswith('```')]\n",
    "    return '\\n'.join(lines)\n",
    "\n",
    "model = GenerativeModel(\"gemini-pro\")\n",
    "chat = model.start_chat()\n",
    "\n",
    "file = open(r\"C:\\Onedrive\\OneDrive - Chalmers\\Thesis Files\\Input.txt\", \"r\")\n",
    "context = file.read()\n",
    "\n",
    "\n",
    "chat.send_message(context)\n",
    "#Input the prompt here\n",
    "prompt = input(\"Enter the description of the geometry you want to select: \")\n",
    "\n",
    "    #Generate a response based on the prompt\n",
    "response = chat.send_message(prompt)\n",
    "\n",
    "print()\n",
    "print(remove_code_fences(response.text))\n",
    "\n",
    "\n",
    "\n",
    "\n"
   ]
  }
 ],
 "metadata": {
  "kernelspec": {
   "display_name": "Python 3",
   "language": "python",
   "name": "python3"
  },
  "language_info": {
   "codemirror_mode": {
    "name": "ipython",
    "version": 3
   },
   "file_extension": ".py",
   "mimetype": "text/x-python",
   "name": "python",
   "nbconvert_exporter": "python",
   "pygments_lexer": "ipython3",
   "version": "3.11.6"
  }
 },
 "nbformat": 4,
 "nbformat_minor": 2
}
