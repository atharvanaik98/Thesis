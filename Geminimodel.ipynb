{
 "cells": [
  {
   "cell_type": "code",
   "execution_count": 2,
   "metadata": {},
   "outputs": [
    {
     "ename": "ValueError",
     "evalue": "Unable to find your project. Please provide a project ID by:\n- Passing a constructor argument\n- Using vertexai.init()\n- Setting project using 'gcloud config set project my-project'\n- Setting a GCP environment variable\n- To create a Google Cloud project, please follow guidance at https://developers.google.com/workspace/guides/create-project",
     "output_type": "error",
     "traceback": [
      "\u001b[1;31m---------------------------------------------------------------------------\u001b[0m",
      "\u001b[1;31mValueError\u001b[0m                                Traceback (most recent call last)",
      "\u001b[1;32mc:\\git\\Thesis\\Geminimodel.ipynb Cell 1\u001b[0m line \u001b[0;36m9\n\u001b[0;32m      <a href='vscode-notebook-cell:/c%3A/git/Thesis/Geminimodel.ipynb#W0sZmlsZQ%3D%3D?line=5'>6</a>\u001b[0m     lines \u001b[39m=\u001b[39m [line \u001b[39mfor\u001b[39;00m line \u001b[39min\u001b[39;00m lines \u001b[39mif\u001b[39;00m \u001b[39mnot\u001b[39;00m line\u001b[39m.\u001b[39mstrip()\u001b[39m.\u001b[39mstartswith(\u001b[39m'\u001b[39m\u001b[39m```\u001b[39m\u001b[39m'\u001b[39m)]\n\u001b[0;32m      <a href='vscode-notebook-cell:/c%3A/git/Thesis/Geminimodel.ipynb#W0sZmlsZQ%3D%3D?line=6'>7</a>\u001b[0m     \u001b[39mreturn\u001b[39;00m \u001b[39m'\u001b[39m\u001b[39m\\n\u001b[39;00m\u001b[39m'\u001b[39m\u001b[39m.\u001b[39mjoin(lines)\n\u001b[1;32m----> <a href='vscode-notebook-cell:/c%3A/git/Thesis/Geminimodel.ipynb#W0sZmlsZQ%3D%3D?line=8'>9</a>\u001b[0m model \u001b[39m=\u001b[39m GenerativeModel(\u001b[39m\"\u001b[39;49m\u001b[39mgemini-pro\u001b[39;49m\u001b[39m\"\u001b[39;49m)\n\u001b[0;32m     <a href='vscode-notebook-cell:/c%3A/git/Thesis/Geminimodel.ipynb#W0sZmlsZQ%3D%3D?line=9'>10</a>\u001b[0m chat \u001b[39m=\u001b[39m model\u001b[39m.\u001b[39mstart_chat()\n\u001b[0;32m     <a href='vscode-notebook-cell:/c%3A/git/Thesis/Geminimodel.ipynb#W0sZmlsZQ%3D%3D?line=11'>12</a>\u001b[0m file \u001b[39m=\u001b[39m \u001b[39mopen\u001b[39m(\u001b[39mr\u001b[39m\u001b[39m\"\u001b[39m\u001b[39mC:\u001b[39m\u001b[39m\\\u001b[39m\u001b[39mOnedrive\u001b[39m\u001b[39m\\\u001b[39m\u001b[39mOneDrive - Chalmers\u001b[39m\u001b[39m\\\u001b[39m\u001b[39mThesis Files\u001b[39m\u001b[39m\\\u001b[39m\u001b[39mInput.txt\u001b[39m\u001b[39m\"\u001b[39m, \u001b[39m\"\u001b[39m\u001b[39mr\u001b[39m\u001b[39m\"\u001b[39m)\n",
      "File \u001b[1;32mc:\\tools\\.pygkn\\pyenvs\\myenv\\Lib\\site-packages\\vertexai\\generative_models\\_generative_models.py:158\u001b[0m, in \u001b[0;36m_GenerativeModel.__init__\u001b[1;34m(self, model_name, generation_config, safety_settings, tools)\u001b[0m\n\u001b[0;32m    155\u001b[0m \u001b[39mif\u001b[39;00m model_name\u001b[39m.\u001b[39mstartswith(\u001b[39m\"\u001b[39m\u001b[39mmodels/\u001b[39m\u001b[39m\"\u001b[39m):\n\u001b[0;32m    156\u001b[0m     model_name \u001b[39m=\u001b[39m \u001b[39m\"\u001b[39m\u001b[39mpublishers/google/\u001b[39m\u001b[39m\"\u001b[39m \u001b[39m+\u001b[39m model_name\n\u001b[1;32m--> 158\u001b[0m project \u001b[39m=\u001b[39m aiplatform_initializer\u001b[39m.\u001b[39;49mglobal_config\u001b[39m.\u001b[39;49mproject\n\u001b[0;32m    159\u001b[0m location \u001b[39m=\u001b[39m aiplatform_initializer\u001b[39m.\u001b[39mglobal_config\u001b[39m.\u001b[39mlocation\n\u001b[0;32m    161\u001b[0m \u001b[39mself\u001b[39m\u001b[39m.\u001b[39m_model_name \u001b[39m=\u001b[39m model_name\n",
      "File \u001b[1;32mc:\\tools\\.pygkn\\pyenvs\\myenv\\Lib\\site-packages\\google\\cloud\\aiplatform\\initializer.py:290\u001b[0m, in \u001b[0;36m_Config.project\u001b[1;34m(self)\u001b[0m\n\u001b[0;32m    287\u001b[0m     \u001b[39mraise\u001b[39;00m GoogleAuthError(project_not_found_exception_str) \u001b[39mfrom\u001b[39;00m \u001b[39mexc\u001b[39;00m\n\u001b[0;32m    289\u001b[0m \u001b[39mif\u001b[39;00m \u001b[39mnot\u001b[39;00m project_id:\n\u001b[1;32m--> 290\u001b[0m     \u001b[39mraise\u001b[39;00m \u001b[39mValueError\u001b[39;00m(project_not_found_exception_str)\n\u001b[0;32m    292\u001b[0m \u001b[39mreturn\u001b[39;00m project_id\n",
      "\u001b[1;31mValueError\u001b[0m: Unable to find your project. Please provide a project ID by:\n- Passing a constructor argument\n- Using vertexai.init()\n- Setting project using 'gcloud config set project my-project'\n- Setting a GCP environment variable\n- To create a Google Cloud project, please follow guidance at https://developers.google.com/workspace/guides/create-project"
     ]
    }
   ],
   "source": [
    "import vertexai\n",
    "import urllib\n",
    "from vertexai.preview.generative_models import GenerativeModel, ChatSession\n",
    "\n",
    "def remove_code_fences(text):\n",
    "    lines = text.split('\\n')\n",
    "    lines = [line for line in lines if not line.strip().startswith('```')]\n",
    "    return '\\n'.join(lines)\n",
    "\n",
    "model = GenerativeModel(\"gemini-pro\")\n",
    "chat = model.start_chat()\n",
    "\n",
    "file = open(r\"C:\\Onedrive\\OneDrive - Chalmers\\Thesis Files\\Input.txt\", \"r\")\n",
    "context = file.read()\n",
    "\n",
    "\n",
    "chat.send_message(context)\n",
    "#Input the prompt here\n",
    "prompt = input(\"Enter the description of the geometry you want to select: \")\n",
    "\n",
    "    #Generate a response based on the prompt\n",
    "response = chat.send_message(prompt)\n",
    "\n",
    "print()\n",
    "print(remove_code_fences(response.text))\n",
    "\n",
    "\n",
    "\n",
    "\n"
   ]
  }
 ],
 "metadata": {
  "kernelspec": {
   "display_name": "myenv",
   "language": "python",
   "name": "python3"
  },
  "language_info": {
   "codemirror_mode": {
    "name": "ipython",
    "version": 3
   },
   "file_extension": ".py",
   "mimetype": "text/x-python",
   "name": "python",
   "nbconvert_exporter": "python",
   "pygments_lexer": "ipython3",
   "version": "3.11.6"
  }
 },
 "nbformat": 4,
 "nbformat_minor": 2
}
