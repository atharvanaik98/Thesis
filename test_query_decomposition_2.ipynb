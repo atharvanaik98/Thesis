def test_decision_maker():
    # Test case 1: response_obj contains "YES"
    response_obj = ["YES"]
    assert decision_maker(response_obj) == chain_yes()

    # Test case 2: response_obj contains "NO"
    response_obj = ["NO"]
    assert decision_maker(response_obj) == chain_no()

    # Test case 3: response_obj contains both "YES" and "NO"
    response_obj = ["YES", "NO"]
    assert decision_maker(response_obj) == chain_yes()

    # Test case 4: response_obj is empty
    response_obj = []
    assert decision_maker(response_obj) is None

    # Test case 5: response_obj contains other values
    response_obj = ["MAYBE", "UNKNOWN"]
    assert decision_maker(response_obj) is None

test_decision_maker()