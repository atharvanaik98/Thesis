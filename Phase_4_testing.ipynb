{
 "cells": [
  {
   "cell_type": "markdown",
   "metadata": {},
   "source": [
    "Import necessary packages"
   ]
  },
  {
   "cell_type": "code",
   "execution_count": 1,
   "metadata": {},
   "outputs": [],
   "source": [
    "from langchain_core.prompts import ChatPromptTemplate, FewShotChatMessagePromptTemplate, MessagesPlaceholder, PromptTemplate\n",
    "from langchain_openai import ChatOpenAI\n",
    "from langchain_google_vertexai import ChatVertexAI\n",
    "from langchain_anthropic import ChatAnthropic\n",
    "from pathlib import Path\n",
    "from langchain_core.output_parsers import StrOutputParser\n",
    "from langchain.output_parsers import PydanticToolsParser, PydanticOutputParser\n",
    "from langchain_core.pydantic_v1 import BaseModel, Field, validator\n",
    "from langchain_core.messages import AIMessage, BaseMessage, HumanMessage\n",
    "from typing import Sequence, List\n",
    "from langgraph.graph import MessageGraph, END\n",
    "from langchain_community.document_loaders import DirectoryLoader\n",
    "from langchain_community.vectorstores import FAISS\n",
    "from langchain_text_splitters import CharacterTextSplitter\n",
    "from langchain_openai import OpenAIEmbeddings\n",
    "from langchain_core.runnables import RunnablePassthrough\n",
    "import json\n",
    "import nest_asyncio\n",
    "nest_asyncio.apply()\n",
    "\n",
    "\n",
    "#function to call a path to the file and read it. \n",
    "def context_gen(file_name):\n",
    "    Folder = \"Context_files\"\n",
    "    here = Path(locals().get('__file__', Folder)).resolve()\n",
    "    parameter = (here / file_name).read_text()\n",
    "    return parameter\n",
    "\n",
    "#remove code fences from the output\n",
    "def remove_code_fences(text):\n",
    "    lines = text.split(\"\\n\")\n",
    "    lines = [line for line in lines if not line.strip().startswith('```')]\n",
    "    lines[0] = lines[0].replace(' -', '-', 1)\n",
    "    print()\n",
    "    return \"\\n\".join(lines)\n",
    "\n",
    "#create inputs to the model, telling it what needs to be done. \n",
    "#provides system message\n",
    "system1 = context_gen(\"system1.txt\")\n",
    "\n",
    "#provides the few shot examples\n",
    "output_examples = context_gen(\"outputex.txt\")\n",
    "\n",
    "#provides the input examples\n",
    "input_examples = context_gen(\"inputex.txt\")\n",
    "\n",
    "#provides the database schema\n",
    "schema = context_gen(\"dataBaseSchema.txt\")\n",
    "\n",
    "refsystem = context_gen(\"ref_system copy.txt\")\n",
    "\n",
    "system3 = context_gen(\"system3.txt\")\n",
    "\n",
    "system2 = context_gen(\"system2.txt\")\n",
    "\n",
    "rag_prompt = context_gen(\"rag_prompt.txt\")\n",
    "\n",
    "\n",
    "#First input to the model, breaks query down and provides geometry definition\n",
    "\n",
    "class analyzed_query(BaseModel):\n",
    "    \"\"\"Identifying whether a geometric feature is present in the database and stating the name of the feature\"\"\"\n",
    "    answer: str= Field(description=\"YES or NO\")\n",
    "    features: List= Field(description=\"Name of the identified geometrical feature (Singular)\")\n",
    "\n",
    "class Response(BaseModel):\n",
    "    \"\"\"Listing the answer of whether the feature is present in the database and the name of the feature\"\"\"\n",
    "    Response: List[analyzed_query]\n",
    "    \n",
    "chat = ChatOpenAI(model=\"gpt-3.5-turbo\", temperature=0.0)\n",
    "#chat = ChatVertexAI(model_name=\"gemini-1.0-pro\", temperature=0.0, convert_system_message_to_human=True)\n",
    "#chat = ChatAnthropic(model_name = \"claude-3-sonnet-20240229\", temperature=0.0)\n",
    "examples = [\n",
    "    {\"input\": input_examples, \"output\": output_examples},\n",
    "]\n",
    "\n",
    "example_prompt = ChatPromptTemplate.from_messages([\n",
    "    (\"human\", \"{input}\"),\n",
    "    (\"ai\", \"{output}\"),\n",
    "]\n",
    ")\n",
    "\n",
    "few_shot_prompt = FewShotChatMessagePromptTemplate(\n",
    "    example_prompt=example_prompt,\n",
    "    examples=examples,\n",
    ")\n"
   ]
  },
  {
   "cell_type": "code",
   "execution_count": 2,
   "metadata": {},
   "outputs": [
    {
     "name": "stdout",
     "output_type": "stream",
     "text": [
      "answer='NO' features=['leading edges']\n"
     ]
    }
   ],
   "source": [
    "'''change the human variable to test different inputs'''\n",
    "human = (\"select all leading edges\")\n",
    "\n",
    "parser = PydanticOutputParser(pydantic_object=analyzed_query)\n",
    "prompt = ChatPromptTemplate.from_messages([(\"system\", rag_prompt + \"Answer the user query. Print the output in Json format according to the instructions.\\n{format_instructions}\",), (\"human\", human),]).partial(format_instructions=parser.get_format_instructions())\n",
    "chain = prompt | chat | parser\n",
    "feature_extractor = chain.invoke({})\n",
    "answer = feature_extractor.answer\n",
    "\n",
    "extracted_features = feature_extractor.features\n",
    "print(feature_extractor)"
   ]
  },
  {
   "cell_type": "code",
   "execution_count": 3,
   "metadata": {},
   "outputs": [],
   "source": [
    "loader = DirectoryLoader(\"RAG\")\n",
    "raw_docs = loader.load()\n",
    "textsplitter = CharacterTextSplitter(chunk_size=2000, chunk_overlap=0)\n",
    "docs = textsplitter.split_documents(raw_docs)\n",
    "db = FAISS.from_documents(docs, OpenAIEmbeddings())\n",
    "retriever = db.as_retriever()\n",
    " \n",
    "\n",
    "prompt_for_rag = ChatPromptTemplate.from_template(\"\"\"You are an assistant that is an expert at RAG (Retrieval Augmented Generation). You have been tasked with looking for the definition of the word provided to you as input and generate a summary of the available information.\"\n",
    "            You will use only the context provided to you.                                 \n",
    "            Context:{context}\n",
    "            Query_to_db:{query}\"\"\")\n",
    "rag_chain = ({\"context\": retriever, \"query\": RunnablePassthrough()}) | prompt_for_rag | chat | StrOutputParser()"
   ]
  },
  {
   "cell_type": "code",
   "execution_count": 4,
   "metadata": {},
   "outputs": [
    {
     "name": "stdout",
     "output_type": "stream",
     "text": [
      "Based on the information provided, leading edges refer to the foremost edge of an object, especially in aerodynamics. In the context of CAD, leading edges may be identified based on their orientation relative to the airflow or motion direction. They can be found in the edges table of a CAD model.\n"
     ]
    }
   ],
   "source": [
    "#Base prompt chain, generates the first yaml version with minimal context\n",
    "\n",
    "base_prompt = ChatPromptTemplate.from_messages([(\"system\", system1), few_shot_prompt, MessagesPlaceholder(variable_name=\"messages\")])\n",
    "yaml_generator = base_prompt | chat \n",
    "rag_output = rag_chain.invoke(f\"What is the definition of {extracted_features}?\")\n",
    "print(rag_output)\n",
    "\n",
    "def chain_yes():\n",
    "    chain = yaml_generator | StrOutputParser()\n",
    "    yaml = chain.invoke({\"messages\": [human]}, {\"tags\": [\"chain_yes\"]})\n",
    "    print(\"RAG not required, generating YAML\")\n",
    "    print()\n",
    "    print(yaml)\n",
    "    print()\n",
    "    return yaml\n",
    "\n",
    "def chain_no():\n",
    "    chain = yaml_generator | StrOutputParser()\n",
    "    ai = HumanMessage(content=rag_output)\n",
    "    yaml = chain.invoke({\"messages\":[ai]}, {\"tags\": [\"chain_no\"]})\n",
    "    print(\"Getting more information using RAG, then generating YAML\")\n",
    "    print()\n",
    "    print(yaml)\n",
    "    print()\n",
    "    return yaml\n",
    "\n",
    "def decision_maker(response_obj: analyzed_query):\n",
    "    for item in response_obj:\n",
    "        if item == \"YES\":\n",
    "            return chain_yes()\n",
    "        elif item == \"NO\":\n",
    "            return chain_no()\n"
   ]
  },
  {
   "cell_type": "code",
   "execution_count": 5,
   "metadata": {},
   "outputs": [
    {
     "name": "stdout",
     "output_type": "stream",
     "text": [
      "Getting more information using RAG, then generating YAML\n",
      "\n",
      "- filter: select * from edges where type like \"Linear\" and (normal_xangle < 45 or normal_xangle > 315)\n",
      "- expand: adjacent\n",
      "\n"
     ]
    }
   ],
   "source": [
    "model_output = []\n",
    "for answer in feature_extractor:\n",
    "    model_output.append(decision_maker(answer))"
   ]
  },
  {
   "cell_type": "code",
   "execution_count": 1,
   "metadata": {},
   "outputs": [
    {
     "ename": "NameError",
     "evalue": "name 'reflection_prompt' is not defined",
     "output_type": "error",
     "traceback": [
      "\u001b[1;31m---------------------------------------------------------------------------\u001b[0m",
      "\u001b[1;31mNameError\u001b[0m                                 Traceback (most recent call last)",
      "Cell \u001b[1;32mIn[1], line 2\u001b[0m\n\u001b[0;32m      1\u001b[0m \u001b[38;5;66;03m#This chain ise used for the reflection prompt, which asks the model to critique and improve on the generated YAML text.\u001b[39;00m\n\u001b[1;32m----> 2\u001b[0m reflect \u001b[38;5;241m=\u001b[39m \u001b[43mreflection_prompt\u001b[49m \u001b[38;5;241m|\u001b[39m chat \u001b[38;5;241m|\u001b[39m StrOutputParser()\n\u001b[0;32m      3\u001b[0m feedback \u001b[38;5;241m=\u001b[39m reflect\u001b[38;5;241m.\u001b[39minvoke(\n\u001b[0;32m      4\u001b[0m     {\n\u001b[0;32m      5\u001b[0m         \u001b[38;5;124m\"\u001b[39m\u001b[38;5;124mmessages\u001b[39m\u001b[38;5;124m\"\u001b[39m: [\n\u001b[1;32m   (...)\u001b[0m\n\u001b[0;32m      9\u001b[0m     {\u001b[38;5;124m\"\u001b[39m\u001b[38;5;124mtags\u001b[39m\u001b[38;5;124m\"\u001b[39m: [\u001b[38;5;124m\"\u001b[39m\u001b[38;5;124mfeedback\u001b[39m\u001b[38;5;124m\"\u001b[39m]},\n\u001b[0;32m     10\u001b[0m )\n\u001b[0;32m     12\u001b[0m regenerate \u001b[38;5;241m=\u001b[39m base_prompt \u001b[38;5;241m|\u001b[39m chat \u001b[38;5;241m|\u001b[39m StrOutputParser()\n",
      "\u001b[1;31mNameError\u001b[0m: name 'reflection_prompt' is not defined"
     ]
    }
   ],
   "source": [
    "#This chain ise used for the reflection prompt, which asks the model to critique and improve on the generated YAML text.\n",
    "reflection_prompt = ChatPromptTemplate.from_messages([\n",
    "        (\"system\", refsystem),\n",
    "        few_shot_prompt,\n",
    "        (\"ai\", rag_output),\n",
    "        MessagesPlaceholder(variable_name=\"messages\")\n",
    "])\n",
    "\n",
    "reflect = reflection_prompt | chat | StrOutputParser()\n",
    "feedback = reflect.invoke(\n",
    "    {\n",
    "        \"messages\": [\n",
    "            f\"This is the YAML code you are supposed to provide feedback for: {model_output[0]}. The user query for which the yaml code provided is: \\n{human}\"\n",
    "        ]\n",
    "    },\n",
    "    {\"tags\": [\"feedback\"]},\n",
    ")\n",
    "final_generate = base_prompt | chat | StrOutputParser()\n",
    "output_yaml = final_generate.invoke(\n",
    "    {\n",
    "        \"messages\": [\n",
    "            f\"I have some YAML code \\n {model_output[0]}\"\n",
    "            + f\"\\nThis code needs to be regenerated with the following instructions in mind: \\n{feedback}. \\nThe YAML code generated needs to be for the following query: {human}\"\n",
    "        ]\n",
    "    },\n",
    "    {\"tags\": [\"final_generate\"]},\n",
    "    )\n"
   ]
  }
 ],
 "metadata": {
  "kernelspec": {
   "display_name": "myenv",
   "language": "python",
   "name": "python3"
  },
  "language_info": {
   "codemirror_mode": {
    "name": "ipython",
    "version": 3
   },
   "file_extension": ".py",
   "mimetype": "text/x-python",
   "name": "python",
   "nbconvert_exporter": "python",
   "pygments_lexer": "ipython3",
   "version": "3.10.13"
  }
 },
 "nbformat": 4,
 "nbformat_minor": 2
}
