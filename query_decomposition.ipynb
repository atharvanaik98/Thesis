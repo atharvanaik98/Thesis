{
 "cells": [
  {
   "cell_type": "markdown",
   "metadata": {},
   "source": [
    "Import necessary packages"
   ]
  },
  {
   "cell_type": "code",
   "execution_count": 4,
   "metadata": {},
   "outputs": [],
   "source": [
    "from langchain_openai import OpenAI\n",
    "from langchain_google_vertexai import ChatVertexAI\n",
    "from langchain_core.prompts import ChatPromptTemplate, FewShotChatMessagePromptTemplate, MessagesPlaceholder, PromptTemplate\n",
    "from langchain_openai import ChatOpenAI\n",
    "from pathlib import Path\n",
    "from langchain_core.output_parsers import StrOutputParser\n",
    "from langchain.output_parsers import PydanticToolsParser, YamlOutputParser\n",
    "import datetime\n",
    "from typing import Literal, Optional, Tuple\n",
    "from langchain_core.pydantic_v1 import BaseModel, Field\n",
    "from langchain_core.messages import AIMessage, BaseMessage, HumanMessage\n",
    "from langchain.globals import set_debug\n",
    "from typing import List, Sequence\n",
    "from langgraph.graph import MessageGraph, END\n"
   ]
  },
  {
   "cell_type": "markdown",
   "metadata": {},
   "source": [
    "Function definitions"
   ]
  },
  {
   "cell_type": "code",
   "execution_count": 5,
   "metadata": {},
   "outputs": [],
   "source": [
    "#function to call a path to the file and read it. \n",
    "def context_gen(file_name):\n",
    "    Folder = \"VertexLang\"\n",
    "    here = Path(locals().get('__file__', Folder)).resolve()\n",
    "    parameter = (here / file_name).read_text()\n",
    "    return parameter\n",
    "\n",
    "#remove code fences from the output\n",
    "def remove_code_fences(text):\n",
    "    lines = text.split(\"\\n\")\n",
    "    lines = [line for line in lines if not line.strip().startswith('```')]\n",
    "    lines[0] = lines[0].replace(' -', '-', 1)\n",
    "    print()\n",
    "    return \"\\n\".join(lines)\n",
    "\n",
    "#invoke and run the model with the given prompt\n",
    "def test_vertexai(few_shot_prompt):\n",
    "    generate = ChatPromptTemplate.from_messages([(\"system\", system), few_shot_prompt, (\"human\", human), (\"ai\", someoutput)])\n",
    "    chat = ChatOpenAI(model=\"gpt-3.5-turbo\", temperature=0.5)\n",
    "    #select an output parser\n",
    "    output_parser = StrOutputParser()\n",
    "    chain = generate | chat | output_parser\n",
    "    result = chain.invoke({})\n",
    "    print(remove_code_fences(result))\n",
    "    print()\n",
    "    return\n"
   ]
  },
  {
   "cell_type": "markdown",
   "metadata": {},
   "source": [
    "Model Inputs"
   ]
  },
  {
   "cell_type": "code",
   "execution_count": 6,
   "metadata": {},
   "outputs": [],
   "source": [
    "#create inputs to the model, telling it what needs to be done. \n",
    "#provides system message\n",
    "system = context_gen(\"systemmsg.txt\")\n",
    "\n",
    "#provides the few shot examples\n",
    "output_examples = context_gen(\"outputex.txt\")\n",
    "\n",
    "#provides the input examples\n",
    "input_examples = context_gen(\"inputex.txt\")\n",
    "\n",
    "#provides the database schema\n",
    "schema = context_gen(\"dataBaseSchema.txt\")\n",
    "\n",
    "refsystem = context_gen(\"ref_system copy.txt\")\n",
    "\n"
   ]
  },
  {
   "cell_type": "markdown",
   "metadata": {},
   "source": [
    "Few shot prompts example template "
   ]
  },
  {
   "cell_type": "code",
   "execution_count": 10,
   "metadata": {},
   "outputs": [],
   "source": [
    "examples = [\n",
    "    {\"input\": input_examples, \"output\": output_examples},\n",
    "]\n",
    "\n",
    "example_prompt = ChatPromptTemplate.from_messages([\n",
    "    (\"human\", \"{input}\"),\n",
    "    (\"ai\", \"{output}\"),\n",
    "]\n",
    ")\n",
    "\n",
    "few_shot_prompt = FewShotChatMessagePromptTemplate(\n",
    "    example_prompt=example_prompt,\n",
    "    examples=examples,\n",
    ")\n"
   ]
  },
  {
   "cell_type": "code",
   "execution_count": 9,
   "metadata": {},
   "outputs": [],
   "source": [
    "class SubQuery(BaseModel):\n",
    "    '''Search for the geometric definition of a feature across the vector database'''\n",
    "\n",
    "    sub_query: str = Field(\n",
    "        ...,\n",
    "        description=\"The text to be used as a sub-query in the prompt.\",\n",
    "    )   \n",
    "\n",
    "#First input to the model, breaks query down and provides geometry definition\n",
    "\n",
    "class YamlText(BaseModel):\n",
    "    text: str = Field(SQLQuery = \"Yaml Text printed one line at a time\")\n",
    "    \n"
   ]
  },
  {
   "cell_type": "code",
   "execution_count": 37,
   "metadata": {},
   "outputs": [],
   "source": [
    "\"\"\"This model sends the user query to the LLM, which then breaks it down into smaller parts if there are words it does not understand\"\"\"\n",
    "\n",
    "'''change the human variable to test different inputs'''\n",
    "human = (\"select all vanes in yz plane\")\n",
    "\n",
    "system2 = context_gen(\"system2.txt\")\n",
    "prompt = ChatPromptTemplate.from_messages([(\"system\", system2), (\"human\", human),])\n",
    "\n",
    "chat = ChatOpenAI(model=\"gpt-3.5-turbo\", temperature=0.5)\n",
    "chat_with_tools = chat.bind_tools([SubQuery])\n",
    "parser = PydanticToolsParser(tools=[SubQuery])\n",
    "query_analyzer = prompt | chat_with_tools | parser \n",
    "output = query_analyzer.invoke({}, {\"tags\": [\"loop 001\"]})\n",
    "result = output[0].sub_query\n"
   ]
  },
  {
   "cell_type": "code",
   "execution_count": 38,
   "metadata": {},
   "outputs": [
    {
     "name": "stdout",
     "output_type": "stream",
     "text": [
      " A vane, in terms of CAD geometrical features, can be defined as a structured combination of planar, cylindrical, and spherical surfaces seamlessly blended using blend features, potentially revolving around an axis and incorporating BSpline surfaces for complex shapes.\n"
     ]
    }
   ],
   "source": [
    "\"\"\"The next step is to generate a definition of the words it did not understand, based on the broken down query in the previous step\"\"\"\n",
    "\n",
    "#get context file \n",
    "system3 = context_gen(\"reflect1.txt\")\n",
    "\n",
    "#chat prompt template for defining the words \n",
    "definer = ChatPromptTemplate.from_messages([(\"system\", system3), (\"human\", result)])\n",
    "chat = ChatVertexAI(model=\"gemini-1.0-pro\", temperature=0.5)\n",
    "\n",
    "#using string output parser as the output is a string\n",
    "output_parser = StrOutputParser()\n",
    "chain2 = definer | chat | output_parser\n",
    "definition = chain2.invoke({}, {\"tags\":[\"loop 002\"]})\n",
    "print(definition)\n"
   ]
  },
  {
   "cell_type": "code",
   "execution_count": 41,
   "metadata": {},
   "outputs": [
    {
     "name": "stdout",
     "output_type": "stream",
     "text": [
      "- filter: select * from faces where type like \"Cylindrical\" and yzangle < 2 or yzangle > 358"
     ]
    }
   ],
   "source": [
    "\"\"\"This step generates an SQL query in YAML with a single shot prompt, based on a single example, emphasizing on basic requirements of the output\"\"\"\n",
    "\n",
    "parser = StrOutputParser()\n",
    "prompt = ChatPromptTemplate.from_messages([(\"system\", system), MessagesPlaceholder(variable_name=\"messages\")])\n",
    "chat = ChatVertexAI(model_name=\"gemini-1.0-pro\", temperature=0.5, convert_system_message_to_human=True)\n",
    "generate = prompt | chat \n",
    "\n",
    "#generates the output and appends it to the empty string stored in the yaml variable.\n",
    "yaml = \"\"\n",
    "request = HumanMessage(content = human)\n",
    "for chunk in generate.stream({\"messages\": [request]}, {\"tags\": [\"loop 003\"]}):\n",
    "    result = chunk.content\n",
    "    yaml += result\n",
    "    print(result, end=\"\")    \n"
   ]
  },
  {
   "cell_type": "code",
   "execution_count": 42,
   "metadata": {},
   "outputs": [
    {
     "name": "stdout",
     "output_type": "stream",
     "text": [
      "The provided YAML code is accurate and meets the criteria for selecting all vanes in the yz plane based on the description provided. The code correctly filters faces of type \"Cylindrical\" with yzangle values either less than 2 or greater than 358, which effectively captures the faces aligned in the yz plane. \n",
      "\n",
      "The YAML code is well-structured and effectively conveys the filtering criteria for selecting vanes in the yz plane. It adheres to the specified format and provides a clear and concise representation of the selection query."
     ]
    }
   ],
   "source": [
    "\"\"\"The next step is to ask the model to carry out a self reflection on the output that it generated in the previous step and provide feedback on the same, after which it generates an improved output taking the same feedback into consideration.\"\"\"\n",
    "\n",
    "reflection_prompt = ChatPromptTemplate.from_messages([(\"system\", refsystem), few_shot_prompt, (\"ai\", definition), MessagesPlaceholder(variable_name=\"messages\"), ])\n",
    "\n",
    "#the chat variable below can be changed if reflection needs to be used from a different LLM model. \n",
    "chat = ChatOpenAI(model=\"gpt-3.5-turbo\", temperature=0.5)\n",
    "\n",
    "#chain for the reflection prompt.\n",
    "reflect = reflection_prompt | chat \n",
    "\n",
    "#generates the output and appends it to the empty string stored in the reflectedyaml variable.\n",
    "reflectedyaml = \"\"\n",
    "for chunk in reflect.stream({\"messages\": [request, HumanMessage(content=yaml)]}, {\"tags\": [\"loop 004\"]}):\n",
    "    result = chunk.content\n",
    "    print(result, end=\"\")\n",
    "    reflectedyaml += result\n",
    "\n"
   ]
  },
  {
   "cell_type": "code",
   "execution_count": 34,
   "metadata": {},
   "outputs": [],
   "source": [
    "\"\"\"This section generates definitions of the reflection and generation nodes for the langgraph\"\"\"\n",
    "\n",
    "async def generation_node(state: Sequence[BaseMessage]):\n",
    "    return await generate.ainvoke({\"messages\": state})\n",
    "\n",
    "async def reflection_node(messages: Sequence[BaseMessage]) -> List[BaseMessage]:\n",
    "    cls_map = {\"ai\": HumanMessage, \"human\": AIMessage}\n",
    "    translated = [messages[0]] + [cls_map[m.type](content = m.content) for m in messages[1:]]\n",
    "    res = await reflect.ainvoke({\"messages\": translated})\n",
    "    return HumanMessage(content=res.content)\n"
   ]
  },
  {
   "cell_type": "code",
   "execution_count": 44,
   "metadata": {},
   "outputs": [
    {
     "name": "stdout",
     "output_type": "stream",
     "text": [
      "\n",
      "{'generate': AIMessage(content='- filter: select * from faces where yzangle > 89 and yzangle < 91\\n- expand: pocket')}\n",
      "---\n",
      "\n",
      "{'reflect': HumanMessage(content='The provided YAML text is well-structured and accurately captures the user\\'s query to select all vanes in the yz plane based on the angle criteria. The use of the \"expand: pocket\" command suggests further refinement of the selection by including faces of a pocket that contains the selected vanes. This approach can help in identifying related geometrical features that are part of the same structural component. The YAML text aligns with the specified format and effectively conveys the intended selection process. Well done!')}\n",
      "---\n",
      "\n",
      "{'generate': AIMessage(content='select all cylindrical faces with normal vector pointing in the negative x direction and radius less than 100 and area greater than 1000000\\n\\n```yaml\\n- filter: select * from faces where type like \"Cylindrical\" and normal_xrad > 170 and normal_xrad < 190 and radius < 100 and area > 1000000\\n```')}\n",
      "---\n",
      "\n",
      "{'reflect': HumanMessage(content='The provided YAML text is accurate in terms of selecting cylindrical faces with specific criteria such as the normal vector pointing in the negative x direction, radius less than 100, and area greater than 1000000. The use of the \"filter\" command followed by the SQL query aligns well with the user\\'s requirements. The structure of the YAML text adheres to the specified format, starting with the \"- filter\" command on each line. Great job in accurately capturing the selection criteria in the YAML code!')}\n",
      "---\n",
      "\n",
      "{'generate': AIMessage(content='select all edges that are longer than 100 and are connected to a cylindrical face with a radius greater than 100\\n\\n```yaml\\n- filter: select * from edges where length > 100\\n- expand: edgefaces\\n- filter: select * from faces where type like \"Cylindrical\" and radius > 100\\n```')}\n",
      "---\n",
      "\n",
      "{'__end__': [HumanMessage(content='select all vanes in yz plane'), AIMessage(content='- filter: select * from faces where yzangle > 89 and yzangle < 91\\n- expand: pocket'), HumanMessage(content='The provided YAML text is well-structured and accurately captures the user\\'s query to select all vanes in the yz plane based on the angle criteria. The use of the \"expand: pocket\" command suggests further refinement of the selection by including faces of a pocket that contains the selected vanes. This approach can help in identifying related geometrical features that are part of the same structural component. The YAML text aligns with the specified format and effectively conveys the intended selection process. Well done!'), AIMessage(content='select all cylindrical faces with normal vector pointing in the negative x direction and radius less than 100 and area greater than 1000000\\n\\n```yaml\\n- filter: select * from faces where type like \"Cylindrical\" and normal_xrad > 170 and normal_xrad < 190 and radius < 100 and area > 1000000\\n```'), HumanMessage(content='The provided YAML text is accurate in terms of selecting cylindrical faces with specific criteria such as the normal vector pointing in the negative x direction, radius less than 100, and area greater than 1000000. The use of the \"filter\" command followed by the SQL query aligns well with the user\\'s requirements. The structure of the YAML text adheres to the specified format, starting with the \"- filter\" command on each line. Great job in accurately capturing the selection criteria in the YAML code!'), AIMessage(content='select all edges that are longer than 100 and are connected to a cylindrical face with a radius greater than 100\\n\\n```yaml\\n- filter: select * from edges where length > 100\\n- expand: edgefaces\\n- filter: select * from faces where type like \"Cylindrical\" and radius > 100\\n```')]}\n",
      "---\n",
      "\n"
     ]
    }
   ],
   "source": [
    "\"\"\"Building the graph according to the nodes defined earlier, also contains a conditional node to iterate through multiple loops of the generation and reflection cycle to improve the output before printing final response\"\"\"\n",
    "builder = MessageGraph()\n",
    "builder.add_node(\"generate\", generation_node)\n",
    "builder.add_node(\"reflect\", reflection_node)\n",
    "builder.set_entry_point(\"generate\")\n",
    "\n",
    "#iteration function. Change the number of iterations as required.\n",
    "def should_continue(state: List[BaseMessage]):\n",
    "    if len(state) > 5:\n",
    "        return END\n",
    "    return \"reflect\"\n",
    "\n",
    "\n",
    "#building and compiling the graph.\n",
    "builder.add_conditional_edges(\"generate\", should_continue)\n",
    "builder.add_edge(\"reflect\", \"generate\")\n",
    "graph = builder.compile()\n",
    "print()\n",
    "\n",
    "#run the graph and trace the output using langsmith. \n",
    "async for event in graph.astream(HumanMessage(content=human)):\n",
    "    print(event)\n",
    "    print('---')\n",
    "    print()\n",
    "     \n"
   ]
  },
  {
   "cell_type": "code",
   "execution_count": null,
   "metadata": {},
   "outputs": [],
   "source": []
  }
 ],
 "metadata": {
  "kernelspec": {
   "display_name": "Python 3",
   "language": "python",
   "name": "python3"
  },
  "language_info": {
   "codemirror_mode": {
    "name": "ipython",
    "version": 3
   },
   "file_extension": ".py",
   "mimetype": "text/x-python",
   "name": "python",
   "nbconvert_exporter": "python",
   "pygments_lexer": "ipython3",
   "version": "3.11.6"
  }
 },
 "nbformat": 4,
 "nbformat_minor": 2
}
