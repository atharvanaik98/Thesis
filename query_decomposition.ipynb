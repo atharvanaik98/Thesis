{
 "cells": [
  {
   "cell_type": "markdown",
   "metadata": {},
   "source": [
    "Import necessary packages"
   ]
  },
  {
   "cell_type": "code",
   "execution_count": 2,
   "metadata": {},
   "outputs": [],
   "source": [
    "from langchain_openai import OpenAI\n",
    "from langchain_core.prompts import ChatPromptTemplate, FewShotChatMessagePromptTemplate, MessagesPlaceholder\n",
    "from langchain_openai import ChatOpenAI\n",
    "from pathlib import Path\n",
    "from langchain_core.output_parsers import StrOutputParser\n",
    "from langchain.output_parsers import PydanticToolsParser\n",
    "import datetime\n",
    "from typing import Literal, Optional, Tuple\n",
    "from langchain_core.pydantic_v1 import BaseModel, Field\n",
    "from langchain_core.messages import AIMessage, BaseMessage, HumanMessage\n",
    "from langchain.globals import set_debug\n",
    "from typing import List, Sequence\n",
    "from langgraph.graph import MessageGraph, END\n",
    "\n"
   ]
  },
  {
   "cell_type": "markdown",
   "metadata": {},
   "source": [
    "Function definitions"
   ]
  },
  {
   "cell_type": "code",
   "execution_count": 3,
   "metadata": {},
   "outputs": [],
   "source": [
    "#function to call a path to the file and read it. \n",
    "def context_gen(file_name):\n",
    "    Folder = \"VertexLang\"\n",
    "    here = Path(locals().get('__file__', Folder)).resolve()\n",
    "    parameter = (here / file_name).read_text()\n",
    "    return parameter\n",
    "\n",
    "#remove code fences from the output\n",
    "def remove_code_fences(text):\n",
    "    lines = text.split(\"\\n\")\n",
    "    lines = [line for line in lines if not line.strip().startswith('```')]\n",
    "    lines[0] = lines[0].replace(' -', '-', 1)\n",
    "    return \"\\n\".join(lines)\n",
    "\n",
    "#invoke and run the model with the given prompt\n",
    "def test_vertexai(few_shot_prompt):\n",
    "    generate = ChatPromptTemplate.from_messages([(\"system\", system), few_shot_prompt, (\"human\", human), (\"ai\", someoutput)])\n",
    "    chat = ChatOpenAI(model=\"gpt-3.5-turbo\", temperature=0.5)\n",
    "    #select an output parser\n",
    "    output_parser = StrOutputParser()\n",
    "    chain = generate | chat | output_parser\n",
    "    result = chain.invoke({})\n",
    "    print(remove_code_fences(result))\n",
    "    print()\n",
    "    return\n"
   ]
  },
  {
   "cell_type": "markdown",
   "metadata": {},
   "source": [
    "Model Inputs"
   ]
  },
  {
   "cell_type": "code",
   "execution_count": 4,
   "metadata": {},
   "outputs": [],
   "source": [
    "#create inputs to the model, telling it what needs to be done. \n",
    "#provides system message\n",
    "system = context_gen(\"systemmsg.txt\")\n",
    "\n",
    "#provides the few shot examples\n",
    "output_examples = context_gen(\"outputex.txt\")\n",
    "\n",
    "#provides the input examples\n",
    "input_examples = context_gen(\"inputex.txt\")\n",
    "\n",
    "#provides the database schema\n",
    "schema = context_gen(\"dataBaseSchema.txt\")\n",
    "\n",
    "refsystem = context_gen(\"ref_system copy.txt\")\n",
    "\n",
    "\n",
    "'''change the human variable to test different inputs'''\n",
    "human = (\"select all struts\")\n"
   ]
  },
  {
   "cell_type": "markdown",
   "metadata": {},
   "source": [
    "Few shot prompts example template "
   ]
  },
  {
   "cell_type": "code",
   "execution_count": 5,
   "metadata": {},
   "outputs": [],
   "source": [
    "examples = [\n",
    "    {\"input\": input_examples, \"output\": output_examples},\n",
    "]\n",
    "\n",
    "example_prompt = ChatPromptTemplate.from_messages([\n",
    "    (\"human\", \"{input}\"),\n",
    "    (\"ai\", \"{output}\"),\n",
    "]\n",
    ")\n",
    "\n",
    "few_shot_prompt = FewShotChatMessagePromptTemplate(\n",
    "    example_prompt=example_prompt,\n",
    "    examples=examples,\n",
    ")\n"
   ]
  },
  {
   "cell_type": "code",
   "execution_count": 6,
   "metadata": {},
   "outputs": [],
   "source": [
    "class SubQuery(BaseModel):\n",
    "    '''Search for the geometric definition of a feature across the vector database'''\n",
    "\n",
    "    sub_query: str = Field(\n",
    "        ...,\n",
    "        description=\"The text to be used as a sub-query in the prompt.\",\n",
    "    )   \n",
    "\n",
    "    \n",
    "system2 = context_gen(\"system2.txt\")\n",
    "prompt = ChatPromptTemplate.from_messages([(\"system\", system2), (\"human\", human),])\n",
    "\n",
    "chat = ChatOpenAI(model=\"gpt-3.5-turbo\", temperature=0.5)\n",
    "chat_with_tools = chat.bind_tools([SubQuery])\n",
    "parser = PydanticToolsParser(tools=[SubQuery])\n",
    "query_analyzer = prompt | chat_with_tools | parser \n",
    "output = query_analyzer.invoke({}, {\"tags\": [\"loop 001\"]})\n",
    "result = output[0].sub_query\n"
   ]
  },
  {
   "cell_type": "code",
   "execution_count": 7,
   "metadata": {},
   "outputs": [
    {
     "name": "stdout",
     "output_type": "stream",
     "text": [
      "A strut, in terms of CAD geometrical features, can be defined as a combination of planar and cylindrical surfaces, potentially blended together with revolved and BSpline surfaces to form a structural component with specific geometric characteristics.\n"
     ]
    }
   ],
   "source": [
    "system3 = context_gen(\"reflect1.txt\")\n",
    "\n",
    "\n",
    "reflect1 = ChatPromptTemplate.from_messages([(\"system\", system3), (\"human\", result)])\n",
    "chat = ChatOpenAI(model=\"gpt-3.5-turbo\", temperature=0.5)\n",
    "output_parser = StrOutputParser()\n",
    "chain2 = reflect1 | chat | output_parser\n",
    "someoutput = chain2.invoke({})\n",
    "print(someoutput)\n"
   ]
  },
  {
   "cell_type": "code",
   "execution_count": 8,
   "metadata": {},
   "outputs": [
    {
     "name": "stdout",
     "output_type": "stream",
     "text": [
      "- filter:\n",
      "    type: Planar,Cylindrical,Blend,Revolved,BSurface\n",
      "- expand:\n",
      "    adjacent- filter: select * from faces where type like \"Planar\" or type like \"Cylindrical\" or type like \"Blend\" or type like \"Revolved\" or type like \"BSurface\"\n",
      "- expand: adjacent"
     ]
    }
   ],
   "source": [
    "prompt = ChatPromptTemplate.from_messages([(\"system\", system), MessagesPlaceholder(variable_name=\"messages\"),])\n",
    "chat = ChatOpenAI(model=\"gpt-3.5-turbo\", temperature=0.0)\n",
    "generate = prompt | chat\n",
    "\n",
    "yaml = \"\"\n",
    "request = HumanMessage(content = someoutput)\n",
    "for chunk in generate.stream({\"messages\": [request]}):\n",
    "    result = (remove_code_fences(chunk.content))\n",
    "    print(result, end = \"\")\n",
    "    yaml += result\n",
    "    \n",
    "\n",
    "reflection_prompt = ChatPromptTemplate.from_messages([(\"system\", refsystem), few_shot_prompt, MessagesPlaceholder(variable_name=\"messages\")])\n",
    "\n",
    "reflect = reflection_prompt | chat \n",
    "\n",
    "reflectedyaml = \"\"\n",
    "for chunk in reflect.stream({\"messages\": [request, HumanMessage(content=yaml)]}):\n",
    "    result = remove_code_fences(chunk.content)\n",
    "    print(result, end=\"\")\n",
    "    reflectedyaml += result\n",
    "\n",
    "async def generation_node(state: Sequence[BaseMessage]) -> List[BaseMessage]:\n",
    "    cls_map = {\"ai\": HumanMessage, \"human\": AIMessage}\n",
    "    translated = [messages[0]] + [cls_map[m.type](m.content) for m in messages[1:]]\n",
    "    res = await reflect.ainvoke({\"messages\": translated})\n",
    "    print()\n",
    "    print(res.content)  # Print the output\n",
    "    return HumanMessage(content=res.content)\n",
    "\n",
    "async def reflection_node(state: Sequence[BaseMessage]):\n",
    "    return await reflect.ainvoke({\"messages\": state})\n",
    "\n",
    "\n",
    "builder = MessageGraph()\n",
    "builder.add_node(\"generate\", generation_node)\n",
    "builder.add_node(\"reflect\", reflection_node)\n",
    "builder.set_entry_point(\"generate\")\n",
    "\n",
    "def should_coninue(state: List[BaseMessage]):\n",
    "    if len(state) > 6:\n",
    "        return END  \n",
    "    return generate\n",
    "\n",
    "\n",
    "builder.add_conditional_edges(\"generate\", should_coninue)\n",
    "builder.add_edge(\"reflect\", \"generate\")\n",
    "graph = builder.compile()\n",
    "\n",
    "\n",
    "async def main():\n",
    "    async for event in graph.astream(HumanMessage(content=someoutput)):\n",
    "        print(event)\n",
    "     "
   ]
  }
 ],
 "metadata": {
  "kernelspec": {
   "display_name": "Python 3",
   "language": "python",
   "name": "python3"
  },
  "language_info": {
   "codemirror_mode": {
    "name": "ipython",
    "version": 3
   },
   "file_extension": ".py",
   "mimetype": "text/x-python",
   "name": "python",
   "nbconvert_exporter": "python",
   "pygments_lexer": "ipython3",
   "version": "3.11.6"
  }
 },
 "nbformat": 4,
 "nbformat_minor": 2
}
